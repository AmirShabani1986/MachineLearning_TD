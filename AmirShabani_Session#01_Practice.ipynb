{
 "cells": [
  {
   "cell_type": "code",
   "execution_count": 3,
   "metadata": {},
   "outputs": [],
   "source": [
    "import numpy as np"
   ]
  },
  {
   "attachments": {},
   "cell_type": "markdown",
   "metadata": {},
   "source": [
    "##### Practice# 1 --------> Create a numpy array with 0s and 1"
   ]
  },
  {
   "attachments": {},
   "cell_type": "markdown",
   "metadata": {},
   "source": [
    "###### import Packages"
   ]
  },
  {
   "cell_type": "code",
   "execution_count": 4,
   "metadata": {},
   "outputs": [
    {
     "name": "stdout",
     "output_type": "stream",
     "text": [
      "[[0 1 0 1 0 1 0 1]\n",
      " [0 1 0 1 0 1 0 1]\n",
      " [0 1 0 1 0 1 0 1]\n",
      " [0 1 0 1 0 1 0 1]\n",
      " [0 1 0 1 0 1 0 1]\n",
      " [0 1 0 1 0 1 0 1]\n",
      " [0 1 0 1 0 1 0 1]\n",
      " [0 1 0 1 0 1 0 1]]\n"
     ]
    }
   ],
   "source": [
    "#nArray=np.empty(64)\n",
    "L1 = list(range(1,65))\n",
    "for i in range(len(L1)):\n",
    "    if i%2==0:\n",
    "        L1[i]=0\n",
    "    else:\n",
    "        L1[i]=1\n",
    "nArray=np.array(L1)\n",
    "nArray=nArray.reshape((8,8))\n",
    "print(nArray)"
   ]
  },
  {
   "attachments": {},
   "cell_type": "markdown",
   "metadata": {},
   "source": [
    "##### Practice# 2 --------> reshape the np array to single Dimension"
   ]
  },
  {
   "cell_type": "code",
   "execution_count": 7,
   "metadata": {},
   "outputs": [
    {
     "name": "stdout",
     "output_type": "stream",
     "text": [
      "[0 1 0 1 0 1 0 1 0 1 0 1 0 1 0 1 0 1 0 1 0 1 0 1 0 1 0 1 0 1 0 1 0 1 0 1 0\n",
      " 1 0 1 0 1 0 1 0 1 0 1 0 1 0 1 0 1 0 1 0 1 0 1 0 1 0 1]\n"
     ]
    }
   ],
   "source": [
    "nArray=nArray.flatten()\n",
    "print(nArray)"
   ]
  },
  {
   "attachments": {},
   "cell_type": "markdown",
   "metadata": {},
   "source": [
    "##### Practice# 3 --------> reshape the np array to single Column"
   ]
  },
  {
   "cell_type": "code",
   "execution_count": 12,
   "metadata": {},
   "outputs": [
    {
     "name": "stdout",
     "output_type": "stream",
     "text": [
      "[[0]\n",
      " [1]\n",
      " [0]\n",
      " [1]\n",
      " [0]\n",
      " [1]\n",
      " [0]\n",
      " [1]\n",
      " [0]\n",
      " [1]\n",
      " [0]\n",
      " [1]\n",
      " [0]\n",
      " [1]\n",
      " [0]\n",
      " [1]\n",
      " [0]\n",
      " [1]\n",
      " [0]\n",
      " [1]\n",
      " [0]\n",
      " [1]\n",
      " [0]\n",
      " [1]\n",
      " [0]\n",
      " [1]\n",
      " [0]\n",
      " [1]\n",
      " [0]\n",
      " [1]\n",
      " [0]\n",
      " [1]\n",
      " [0]\n",
      " [1]\n",
      " [0]\n",
      " [1]\n",
      " [0]\n",
      " [1]\n",
      " [0]\n",
      " [1]\n",
      " [0]\n",
      " [1]\n",
      " [0]\n",
      " [1]\n",
      " [0]\n",
      " [1]\n",
      " [0]\n",
      " [1]\n",
      " [0]\n",
      " [1]\n",
      " [0]\n",
      " [1]\n",
      " [0]\n",
      " [1]\n",
      " [0]\n",
      " [1]\n",
      " [0]\n",
      " [1]\n",
      " [0]\n",
      " [1]\n",
      " [0]\n",
      " [1]\n",
      " [0]\n",
      " [1]]\n",
      "(64, 1)\n"
     ]
    }
   ],
   "source": [
    "nArray=nArray.reshape(-1,1)\n",
    "print(nArray)\n",
    "print(nArray.shape)"
   ]
  },
  {
   "attachments": {},
   "cell_type": "markdown",
   "metadata": {},
   "source": [
    "##### Create an random array and replace greater than 10 with 10 "
   ]
  },
  {
   "cell_type": "code",
   "execution_count": 20,
   "metadata": {},
   "outputs": [
    {
     "name": "stdout",
     "output_type": "stream",
     "text": [
      "our array at first step \n",
      " [[40 15 72 22 43 82 75  7 34 49]\n",
      " [95 75 85 47 63 31 90 20 37 39]\n",
      " [67  4 42 51 38 33 58 67 69 88]\n",
      " [68 46 70 95 83 31 66 80 52 76]\n",
      " [50  4 90 63 79 49 39 46  8 50]\n",
      " [15  8 17 22 73 57 90 62 83 96]\n",
      " [43 32 26  8 76 10 40 34 60  9]\n",
      " [70 86 70 19 56 82  1 68 40 81]\n",
      " [61 70 97 18 84 90 87 22 43 52]\n",
      " [74 72 90 99 91 96 16 55 21 43]]\n",
      "\n",
      " our array after changes \n",
      " [[10 10 10 10 10 10 10  7 10 10]\n",
      " [10 10 10 10 10 10 10 10 10 10]\n",
      " [10  4 10 10 10 10 10 10 10 10]\n",
      " [10 10 10 10 10 10 10 10 10 10]\n",
      " [10  4 10 10 10 10 10 10  8 10]\n",
      " [10  8 10 10 10 10 10 10 10 10]\n",
      " [10 10 10  8 10 10 10 10 10  9]\n",
      " [10 10 10 10 10 10  1 10 10 10]\n",
      " [10 10 10 10 10 10 10 10 10 10]\n",
      " [10 10 10 10 10 10 10 10 10 10]]\n"
     ]
    }
   ],
   "source": [
    "np.random.seed(2)\n",
    "mArray=np.random.randint(100,size=(10,10))\n",
    "print(f\"our array at first step \\n {mArray}\")\n",
    "for i in range(mArray.shape[0]):\n",
    "    for j in range(mArray.shape[1]):\n",
    "        if mArray[i,j]>10:\n",
    "            mArray[i,j]=10\n",
    "        else:\n",
    "            pass\n",
    "print(f\"\\n our array after changes \\n {mArray}\")"
   ]
  }
 ],
 "metadata": {
  "kernelspec": {
   "display_name": "Python 3",
   "language": "python",
   "name": "python3"
  },
  "language_info": {
   "codemirror_mode": {
    "name": "ipython",
    "version": 3
   },
   "file_extension": ".py",
   "mimetype": "text/x-python",
   "name": "python",
   "nbconvert_exporter": "python",
   "pygments_lexer": "ipython3",
   "version": "3.10.3"
  },
  "orig_nbformat": 4
 },
 "nbformat": 4,
 "nbformat_minor": 2
}
