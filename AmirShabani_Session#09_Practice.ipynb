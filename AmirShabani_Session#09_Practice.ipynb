{
 "cells": [
  {
   "cell_type": "code",
   "execution_count": 3,
   "metadata": {},
   "outputs": [],
   "source": [
    "import pandas as pd\n",
    "import numpy as np\n",
    "import mlxtend\n",
    "\n",
    "from mlxtend.plotting import plot_decision_regions \n",
    "from sklearn.model_selection import train_test_split\n",
    "from sklearn.model_selection import RandomizedSearchCV\n",
    "\n",
    "import warnings\n",
    "\n",
    "import seaborn as sns\n",
    "# from sklearn.preprocessing import LabelEncoder\n",
    "\n",
    "from sklearn.metrics import precision_score, recall_score, f1_score\n",
    "from sklearn.metrics import classification_report\n",
    "from sklearn.metrics import roc_curve, auc\n",
    "\n",
    "from scipy.stats import uniform\n",
    "\n",
    "from sklearn.preprocessing import StandardScaler,MinMaxScaler\n",
    "from sklearn.preprocessing import label_binarize\n",
    "\n",
    "\n",
    "\n",
    "from sklearn.linear_model import Perceptron\n",
    "from sklearn.linear_model import LogisticRegression\n",
    "from sklearn.neighbors import KNeighborsClassifier\n",
    "from sklearn.tree import DecisionTreeClassifier\n",
    "from sklearn.ensemble import RandomForestClassifier\n",
    "from sklearn.svm import SVC\n",
    "\n",
    "from sklearn.tree import plot_tree\n",
    "\n",
    "import matplotlib.pyplot as plt\n",
    "import plotly.express as px\n",
    "import plotly.graph_objects as go\n",
    "\n",
    "import warnings\n"
   ]
  },
  {
   "cell_type": "code",
   "execution_count": 4,
   "metadata": {},
   "outputs": [
    {
     "name": "stdout",
     "output_type": "stream",
     "text": [
      "Best hyperparameters:  {'kernel': 'rbf', 'gamma': 0.003, 'C': 2}\n",
      "Best score:  0.4917930524759793\n"
     ]
    }
   ],
   "source": [
    "warnings.filterwarnings('ignore')\n",
    "\n",
    "df_music_unmapped=pd.read_csv(r\"G:\\Classes\\MachineLearning_TahlilDadeh\\Session09\\df_music_label_session09.csv\",sep=\",\",encoding=\"UTF-8\")\n",
    "df_music_category=pd.read_csv(r\"G:\\Classes\\MachineLearning_TahlilDadeh\\Session09\\df_music_labels_Session09.csv\",sep=\",\",encoding=\"UTF-8\")\n",
    "\n",
    "df_music_unmapped.rename(columns={\"label\": \"labelid\"}, inplace=True)\n",
    "df_music_category.rename(columns={\"label\": \"labelTitle\",\"code\":\"labelid\"}, inplace=True)\n",
    "\n",
    "df_music_category[\"labelid\"]=df_music_category.labelid.astype(\"Int64\")\n",
    "df_music_unmapped[\"labelid\"]=df_music_unmapped.labelid.astype(\"Int64\")\n",
    "\n",
    "df_music_unmapped=df_music_unmapped.drop('Unnamed: 0', axis=1)\n",
    "\n",
    "music_df = pd.merge(df_music_unmapped, df_music_category[['labelid', 'labelTitle']], on='labelid', how='inner')\n",
    "\n",
    "x = music_df.iloc[:,:-2]\n",
    "y= music_df.iloc[:,-2].astype(int)\n",
    "\n",
    "\n",
    "\n",
    "# Split the dataset into training and testing sets\n",
    "x_train, x_test, y_train, y_test = train_test_split(x, y, test_size=0.3, stratify=y, random_state=1)\n",
    "\n",
    "\n",
    "# Scale the features\n",
    "sc = StandardScaler()\n",
    "x_train = sc.fit_transform(x_train)\n",
    "x_test = sc.transform(x_test)\n",
    "\n",
    "######################################################################################################\n",
    "\n",
    "param_dist = {'C': [i for i in range(1, 101)],\n",
    "              'gamma':  [i/1000 for i in range(1, 101)],\n",
    "              #'kernel': ['linear', 'poly', 'rbf', 'sigmoid']\n",
    "              'kernel': ['rbf']\n",
    "              }\n",
    "\n",
    "# Create the SVM model\n",
    "svm = SVC()\n",
    "random_search = RandomizedSearchCV(svm, param_distributions=param_dist, n_iter=1000,cv=5)\n",
    "\n",
    "# Fit the RandomizedSearchCV object to the iris dataset\n",
    "random_search.fit(x_train, y_train)\n",
    "\n",
    "# Print the best hyperparameters and the corresponding score\n",
    "print(\"Best hyperparameters: \", random_search.best_params_)\n",
    "print(\"Best score: \", random_search.best_score_)\n",
    "\n"
   ]
  }
 ],
 "metadata": {
  "kernelspec": {
   "display_name": "Python 3",
   "language": "python",
   "name": "python3"
  },
  "language_info": {
   "codemirror_mode": {
    "name": "ipython",
    "version": 3
   },
   "file_extension": ".py",
   "mimetype": "text/x-python",
   "name": "python",
   "nbconvert_exporter": "python",
   "pygments_lexer": "ipython3",
   "version": "3.10.3"
  },
  "orig_nbformat": 4
 },
 "nbformat": 4,
 "nbformat_minor": 2
}
