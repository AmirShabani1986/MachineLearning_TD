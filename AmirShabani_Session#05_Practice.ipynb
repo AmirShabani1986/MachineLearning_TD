{
 "cells": [
  {
   "cell_type": "code",
   "execution_count": 15,
   "metadata": {},
   "outputs": [],
   "source": [
    "from sklearn.datasets import fetch_openml\n",
    "from sklearn.linear_model import LogisticRegression\n",
    "from sklearn.linear_model import Perceptron\n",
    "from sklearn.model_selection import train_test_split\n",
    "from sklearn.metrics import accuracy_score\n",
    "\n",
    "import numpy as np\n",
    "import pandas as pd\n",
    "import matplotlib.pyplot as plt\n",
    "import cv2\n"
   ]
  },
  {
   "cell_type": "code",
   "execution_count": 8,
   "metadata": {},
   "outputs": [
    {
     "name": "stdout",
     "output_type": "stream",
     "text": [
      "{'N1': (28, 28), 'N2': (28, 28), 'N3': (28, 28), 'N4': (28, 28), 'N5': (28, 28), 'N6': (28, 28), 'N7': (28, 28), 'N8': (28, 28), 'N9': (28, 28), 'N10': (28, 28)}\n",
      "(784,)\n"
     ]
    },
    {
     "data": {
      "image/png": "[encoded data removed]",
      "text/plain": [
       "<Figure size 640x480 with 1 Axes>"
      ]
     },
     "metadata": {},
     "output_type": "display_data"
    }
   ],
   "source": [
    "ImportPath=r\"G:\\Classes\\MachineLearning_TahlilDadeh\\Session05\\4.jpg\"\n",
    "My_Img = cv2.imread(ImportPath, cv2.IMREAD_GRAYSCALE)\n",
    "\n",
    "thresh, img_bw = cv2.threshold(My_Img, 128, 255, cv2.THRESH_BINARY)\n",
    "\n",
    "My_Img=np.where(My_Img>=70,0,My_Img)\n",
    "plt.imshow(np.where(My_Img>=70,0,My_Img))\n",
    "\n",
    "My_Img=My_Img[380:950,400:460]\n",
    "plt.imshow(My_Img,cmap='gray')\n",
    "\n",
    "N1=My_Img[18:46,17:45]\n",
    "N2=My_Img[78:106,14:42]\n",
    "N3=My_Img[136:164,12:40]\n",
    "N4=My_Img[190:218,10:38]\n",
    "N5=My_Img[247:275,9:37]\n",
    "N6=My_Img[300:328,9:37]\n",
    "N7=My_Img[350:378,9:37]\n",
    "N8=My_Img[408:436,9:37]\n",
    "N9=My_Img[460:488,12:40]\n",
    "N10=My_Img[514:542,22:50]\n",
    "\n",
    "Specification=dict()\n",
    "imgList=[\"N1\",\"N2\",\"N3\",\"N4\",\"N5\",\"N6\",\"N7\",\"N8\",\"N9\",\"N10\"] \n",
    "for i in imgList:\n",
    "    MyCmd=f\"Specification[i]={i}.shape\"\n",
    "    exec(MyCmd)\n",
    "    MyCmd=f\"{i}={i}.flatten()\"\n",
    "    exec(MyCmd)\n",
    "\n",
    "print(Specification)\n",
    "print(N2.shape)\n",
    "\n",
    "My_Img_N=\"N1\"\n",
    "plt.imshow(N1.reshape(Specification[My_Img_N]),cmap='gray')\n",
    "\n",
    "arr = np.array([N1,N2,N3,N4,N5,N6,N7,N8,N9,N10])\n",
    "df_MyHandWriting = pd.DataFrame(arr)"
   ]
  },
  {
   "cell_type": "code",
   "execution_count": 20,
   "metadata": {},
   "outputs": [],
   "source": [
    "# Load the MNIST dataset\n",
    "mnist = fetch_openml('mnist_784')\n",
    "\n",
    "# Preprocess the data\n",
    "X = mnist.data / 255.0\n",
    "y = mnist.target\n",
    "\n",
    "# Split the dataset into training and testing sets\n",
    "X_train, X_test, y_train, y_test = train_test_split(X, y, test_size=0.2, random_state=1)"
   ]
  },
  {
   "cell_type": "code",
   "execution_count": 21,
   "metadata": {},
   "outputs": [
    {
     "name": "stdout",
     "output_type": "stream",
     "text": [
      "Accuracy: 0.9186428571428571\n"
     ]
    }
   ],
   "source": [
    "\n",
    "# Create and train the logistic regression model\n",
    "lr_model = LogisticRegression(max_iter=1000)\n",
    "lr_model.fit(X_train, y_train)\n",
    "\n",
    "# Make predictions on the test data\n",
    "y_pred = lr_model.predict(X_test)\n",
    "\n",
    "# Evaluate the model\n",
    "accuracy = accuracy_score(y_test, y_pred)\n",
    "print(\"Accuracy:\", accuracy)"
   ]
  },
  {
   "cell_type": "code",
   "execution_count": 26,
   "metadata": {},
   "outputs": [
    {
     "name": "stdout",
     "output_type": "stream",
     "text": [
      "['8' '3' '3' '9' '3' '3' '8' '3' '3' '2']\n"
     ]
    },
    {
     "name": "stderr",
     "output_type": "stream",
     "text": [
      "c:\\Users\\ASI\\AppData\\Local\\Programs\\Python\\Python310\\lib\\site-packages\\sklearn\\base.py:450: UserWarning: X does not have valid feature names, but LogisticRegression was fitted with feature names\n",
      "  warnings.warn(\n"
     ]
    }
   ],
   "source": [
    "y_pred_Myhandwriting = lr_model.predict(df_MyHandWriting)\n",
    "\n",
    "print(y_pred_Myhandwriting)"
   ]
  },
  {
   "cell_type": "code",
   "execution_count": 27,
   "metadata": {},
   "outputs": [
    {
     "name": "stdout",
     "output_type": "stream",
     "text": [
      "Accuracy: 0.8832857142857143\n"
     ]
    }
   ],
   "source": [
    "# Create and train the perceptron model\n",
    "Pt_model = Perceptron(max_iter=1000)\n",
    "Pt_model.fit(X_train, y_train)\n",
    "\n",
    "# Make predictions on the test data\n",
    "y_pred = Pt_model.predict(X_test)\n",
    "\n",
    "# Evaluate the model\n",
    "accuracy = accuracy_score(y_test, y_pred)\n",
    "print(\"Accuracy:\", accuracy)"
   ]
  },
  {
   "cell_type": "code",
   "execution_count": 28,
   "metadata": {},
   "outputs": [
    {
     "name": "stdout",
     "output_type": "stream",
     "text": [
      "['8' '3' '3' '9' '9' '3' '8' '3' '3' '2']\n"
     ]
    },
    {
     "name": "stderr",
     "output_type": "stream",
     "text": [
      "c:\\Users\\ASI\\AppData\\Local\\Programs\\Python\\Python310\\lib\\site-packages\\sklearn\\base.py:450: UserWarning: X does not have valid feature names, but Perceptron was fitted with feature names\n",
      "  warnings.warn(\n"
     ]
    }
   ],
   "source": [
    "y_pred_Myhandwriting = Pt_model.predict(df_MyHandWriting)\n",
    "\n",
    "print(y_pred_Myhandwriting)"
   ]
  }
 ],
 "metadata": {
  "kernelspec": {
   "display_name": "Python 3",
   "language": "python",
   "name": "python3"
  },
  "language_info": {
   "codemirror_mode": {
    "name": "ipython",
    "version": 3
   },
   "file_extension": ".py",
   "mimetype": "text/x-python",
   "name": "python",
   "nbconvert_exporter": "python",
   "pygments_lexer": "ipython3",
   "version": "3.10.3"
  },
  "orig_nbformat": 4
 },
 "nbformat": 4,
 "nbformat_minor": 2
}
