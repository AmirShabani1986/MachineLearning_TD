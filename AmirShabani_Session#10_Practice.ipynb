{
 "cells": [
  {
   "cell_type": "code",
   "execution_count": 48,
   "metadata": {},
   "outputs": [],
   "source": [
    "import pandas as pd\n",
    "import numpy as np\n",
    "\n",
    "import re\n",
    "\n",
    "from datetime import datetime\n",
    "import jdatetime\n",
    "\n",
    "from sklearn.preprocessing import StandardScaler\n",
    "from sklearn.preprocessing import LabelEncoder\n",
    "\n",
    "from sklearn.model_selection import train_test_split\n",
    "\n",
    "from sklearn.linear_model import LinearRegression\n",
    "\n",
    "import matplotlib.pyplot as plt\n",
    "import plotly.express as px\n"
   ]
  },
  {
   "cell_type": "code",
   "execution_count": null,
   "metadata": {},
   "outputs": [],
   "source": [
    "# Importing the required libraries\n",
    "import pandas as pd\n",
    "import numpy as np\n",
    "from sklearn.linear_model import LinearRegression\n",
    "from sklearn.model_selection import train_test_split\n",
    "\n",
    "# Loading the dataset\n",
    "data = pd.read_csv('house_prices.csv')\n",
    "\n",
    "# Splitting the dataset into training and testing sets\n",
    "X_train, X_test, y_train, y_test = train_test_split(data[['area', 'bedrooms', 'bathrooms']], data['price'], test_size=0.2, random_state=0)\n",
    "\n",
    "# Creating a Linear Regression model and fitting it to the training data\n",
    "model = LinearRegression()\n",
    "model.fit(X_train, y_train)\n",
    "\n",
    "# Predicting the house prices for the test data\n",
    "y_pred = model.predict(X_test)\n",
    "\n",
    "# Evaluating the performance of the model using Mean Absolute Error (MAE)\n",
    "from sklearn.metrics import mean_absolute_error\n",
    "mae = mean_absolute_error(y_test, y_pred)\n",
    "print('Mean Absolute Error:', mae)"
   ]
  },
  {
   "cell_type": "code",
   "execution_count": 3,
   "metadata": {},
   "outputs": [],
   "source": [
    "def extractnumber(string_number):\n",
    "    numbers = re.findall(r'\\d+', string_number)\n",
    "    result = ''.join(numbers)\n",
    "    return result\n",
    "\n",
    "def convertdate(date_str):\n",
    "    date_obj = jdatetime.datetime.strptime(date_str, '%Y/%m/%d')\n",
    "    gregorian_date = jdatetime.date.togregorian(date_obj)\n",
    "    return gregorian_date.strftime('%Y-%m-%d')"
   ]
  },
  {
   "cell_type": "markdown",
   "metadata": {},
   "source": [
    "##### import data From file"
   ]
  },
  {
   "cell_type": "code",
   "execution_count": 4,
   "metadata": {},
   "outputs": [],
   "source": [
    "df_house = pd.read_csv(r'G:\\Classes\\MachineLearning_TahlilDadeh\\Session10\\HomeDatasetTehran_R4_2.txt', sep='\\t')\n",
    "df_house = df_house.rename(columns={'h_type': 'housetype',\n",
    "                        'h_loctype': 'location',\n",
    "                        'sought': 'south',\n",
    "                        'floor_covering': 'floormaterial',\n",
    "                        'kitch': 'cabinetmaterial',\n",
    "                        'adress': 'address',\n",
    "                        'statuse': 'status',\n",
    "                        'doc_status': 'ownershiptype',\n",
    "                        'service': 'toilettype',\n",
    "                        'area': 'squaremeters',\n",
    "                        \n",
    "                        \n",
    "                        })"
   ]
  },
  {
   "cell_type": "markdown",
   "metadata": {},
   "source": [
    "##### Explore data"
   ]
  },
  {
   "cell_type": "code",
   "execution_count": 22,
   "metadata": {},
   "outputs": [
    {
     "name": "stdout",
     "output_type": "stream",
     "text": [
      "[0 1]\n",
      "['پارکت' 'سراميک' 'سيمان' 'موکت' 'سنگ' 'لامنيت' 'پارکت سنگ' 'موزائيک'\n",
      " 'سراميک موزائيک' 'سنگ سراميک' 'کفپوش' 'پارکت سراميک']\n",
      "[4]\n",
      "['آپارتمان']\n",
      "['شوفاژ_کولر_آسانسور_گاز' 'شوفاژ_کولر_گاز' 'کولر_گاز' 'آسانسور_پکیج_گاز'\n",
      " 'شوفاژ_کولر_آسانسور_پکیج_گاز' 'کولر_آسانسور_پکیج_گاز'\n",
      " 'آسانسور_استخر_جکوزی_گاز' 'شوفاژ_کولر_آسانسور_استخر_سونا_گاز'\n",
      " 'شوفاژ_کولر_پاسیو_پکیج_گاز' 'کولر_آسانسور_گاز' 'شوفاژ_کولر_پکیج_گاز'\n",
      " 'کولر_آسانسور_چیلر_گاز' 'شوفاژ_کولر_آسانسور_حیاط_گاز' 'کولر_پکیج_گاز'\n",
      " 'کولر_آسانسور_پاسیو_گاز' 'شوفاژ_آسانسور_پکیج_گاز'\n",
      " 'کولر_آسانسور_زیر زمین_مستخدم_چیلر_پکیج_گاز' 'کولر_پاسیو_گاز'\n",
      " 'کولر_فن کوئر_آسانسور_گاز' 'شوفاژ_کولر_آسانسور' 'شوفاژ_کولر_آسانسور_پکیج'\n",
      " 'کولر_حیاط_پکیج_گاز' 'شوفاژ_آسانسور_گاز' 'شوفاژ_کولر_آسانسور_چیلر_گاز'\n",
      " 'کولر_آسانسور_چیلر_پکیج_گاز' 'آسانسور_پکیج_جکوزی_گاز'\n",
      " 'شوفاژ_کولر_آسانسور_حیاط خلوت_گاز' 'شوفاژ_حیاط_پکیج_گاز'\n",
      " 'شوفاژ_کولر_آسانسور_مستخدم' 'کولر_حیاط_گاز' 'آسانسور' 'آسانسور_گاز'\n",
      " 'شوفاژ_کولر_حیاط خلوت_گاز' 'کولر_آسانسور_پکیج'\n",
      " 'کولر_آسانسور_پاسیو_پکیج_گاز' 'فن کوئر_آسانسور_گاز'\n",
      " 'شوفاژ_کولر_آسانسور_حیاط_زیر زمین_گاز' 'کولر_زیر زمین_گاز'\n",
      " 'آسانسور_چیلر_گاز' 'کولر_آسانسور_حیاط خلوت_گاز'\n",
      " 'شوفاژ_کولر_آسانسور_مستخدم_پکیج_گاز' 'شوفاژ_کولر_آسانسور_جکوزی_گاز'\n",
      " 'شوفاژ_کولر_آسانسور_حیاط' 'کولر_آسانسور_حیاط_پکیج_سونا_جکوزی_گاز'\n",
      " 'شوفاژ_کولر_آسانسور_پاسیو_پکیج_گاز'\n",
      " 'شوفاژ_کولر_آسانسور_حیاط خلوت_پکیج_گاز' 'شوفاژ_کولر' 'آسانسور_چیلر'\n",
      " 'کولر_حیاط خلوت_گاز']\n",
      "['2' '3' '1' '4' '6' '12' '8' '10' '9' '7' '5' '20' '11' '---']\n"
     ]
    }
   ],
   "source": [
    "print(df_house[\"north\"].unique())\n",
    "print(df_house[\"floormaterial\"].unique())\n",
    "print(df_house[\"loc\"].unique())\n",
    "print(df_house[\"housetype\"].unique())\n",
    "print(df_house[\"equipment\"].unique())\n",
    "print(df_house[\"unit_per_floor\"].unique())\n",
    "#print(df[\"address\"].unique())\n"
   ]
  },
  {
   "cell_type": "markdown",
   "metadata": {},
   "source": [
    "##### labeling Columns"
   ]
  },
  {
   "cell_type": "code",
   "execution_count": 28,
   "metadata": {},
   "outputs": [
    {
     "name": "stdout",
     "output_type": "stream",
     "text": [
      "price is already numeric\n",
      "WrongFormat date in input or its already OK\n",
      "agecode is exists\n",
      "statuscode is exists\n",
      "viewcode is exists\n",
      "ownershiptypecode is exists\n",
      "floorcode is exists\n",
      "cabinetmaterialcode is exists\n",
      "toilettypecode is exists\n",
      "floormaterialcode is exists\n",
      "price_per_meter is exists\n"
     ]
    }
   ],
   "source": [
    "try:\n",
    "    df_house[\"price\"]=df_house[\"price\"].apply(extractnumber)\n",
    "except:\n",
    "    print(\"price is already numeric\")\n",
    "    \n",
    "df_house[\"price\"] = pd.to_numeric(df_house[\"price\"])\n",
    "\n",
    "\n",
    "try:\n",
    "    # change the date format into date\n",
    "    df_house[\"date\"]=df_house[\"date\"].apply(convertdate)\n",
    "except ValueError:\n",
    "    print(\"WrongFormat date in input or its already OK\")\n",
    "\n",
    "\n",
    "# create object from class lableEncoder\n",
    "le = LabelEncoder()\n",
    "\n",
    "try:\n",
    "    # create a new column named agecode start from 1\n",
    "    df_house.insert(df_house.columns.get_loc('age') + 1, 'agecode', le.fit_transform(df_house['age'])+1)\n",
    "except:\n",
    "    print(\"agecode is exists\")\n",
    "    \n",
    "try:\n",
    "    # create a new column named statucode start from 1\n",
    "    df_house.insert(df_house.columns.get_loc('status') + 1, 'statuscode', le.fit_transform(df_house['status'])+1)\n",
    "except:\n",
    "    print(\"statuscode is exists\")\n",
    "\n",
    "try:\n",
    "    # create a new column named viewcode start from 1\n",
    "    df_house.insert(df_house.columns.get_loc('view') + 1, 'viewcode', le.fit_transform(df_house['view'])+1)\n",
    "except:\n",
    "    print(\"viewcode is exists\")\n",
    "\n",
    "try:\n",
    "    # create a new column named ownershiptypecode start from 1\n",
    "    df_house.insert(df_house.columns.get_loc('ownershiptype') + 1, 'ownershiptypecode', le.fit_transform(df_house['ownershiptype'])+1)\n",
    "except:\n",
    "    print(\"ownershiptypecode is exists\")\n",
    "\n",
    "try:\n",
    "    # create a new column named floorcode start from 1\n",
    "    df_house.insert(df_house.columns.get_loc('floor') + 1, 'floorcode', le.fit_transform(df_house['floor'])+1)\n",
    "except:\n",
    "    print(\"floorcode is exists\")\n",
    "    \n",
    "try:\n",
    "    # create a new column named cabinetmaterialcode start from 1\n",
    "    df_house.insert(df_house.columns.get_loc('cabinetmaterial') + 1, 'cabinetmaterialcode', le.fit_transform(df_house['cabinetmaterial'])+1)\n",
    "except:\n",
    "    print(\"cabinetmaterialcode is exists\")\n",
    "\n",
    "try:\n",
    "    # create a new column named toilettypecode start from 1\n",
    "    df_house.insert(df_house.columns.get_loc('toilettype') + 1, 'toilettypecode', le.fit_transform(df_house['toilettype'])+1)\n",
    "except:\n",
    "    print(\"toilettypecode is exists\")\n",
    "    \n",
    "try:\n",
    "    # create a new column named floormaterialcode start from 1\n",
    "    df_house.insert(df_house.columns.get_loc('floormaterial') + 1, 'floormaterialcode', le.fit_transform(df_house['floormaterial'])+1)\n",
    "except:\n",
    "    print(\"floormaterialcode is exists\")\n",
    "\n",
    "# change position of the column squaremeters\n",
    "try:\n",
    "    df_house.insert(df_house.columns.get_loc('price') + 1, 'squaremeters', df_house.pop('squaremeters'))    \n",
    "except:\n",
    "    print(\"position squaremeters has already changed\")\n",
    "\n",
    "df_house['squaremeters'] = pd.to_numeric(df_house['squaremeters'])\n",
    "\n",
    "    \n",
    "try:\n",
    "    # Adding a new column 'price_per_meter' that is the result of dividing 'price' by 'squaremeters' with two decimal places\n",
    "    df_house.insert(df_house.columns.get_loc('squaremeters') + 1, 'price_per_meter', (df_house['price'] / df_house['squaremeters']))\n",
    "except:\n",
    "    print(\"price_per_meter is exists\")\n",
    "\n",
    "df_house['price_per_meter'] =  pd.to_numeric(df_house['price_per_meter'])\n",
    "\n",
    "\n",
    "# replace '---' values with NaN\n",
    "df_house['unit_per_floor'] = df_house['unit_per_floor'].replace('---', None)\n",
    "\n",
    "# fill NaN values with the mean of the column\n",
    "df_house['unit_per_floor'] = df_house['unit_per_floor'].fillna(df_house['unit_per_floor'].astype(float).mean())  "
   ]
  },
  {
   "cell_type": "markdown",
   "metadata": {},
   "source": [
    "# Equipment extraction"
   ]
  },
  {
   "cell_type": "code",
   "execution_count": 29,
   "metadata": {},
   "outputs": [
    {
     "data": {
      "text/html": [
       "<div>\n",
       "<style scoped>\n",
       "    .dataframe tbody tr th:only-of-type {\n",
       "        vertical-align: middle;\n",
       "    }\n",
       "\n",
       "    .dataframe tbody tr th {\n",
       "        vertical-align: top;\n",
       "    }\n",
       "\n",
       "    .dataframe thead th {\n",
       "        text-align: right;\n",
       "    }\n",
       "</style>\n",
       "<table border=\"1\" class=\"dataframe\">\n",
       "  <thead>\n",
       "    <tr style=\"text-align: right;\">\n",
       "      <th></th>\n",
       "      <th>elevator</th>\n",
       "      <th>pool</th>\n",
       "      <th>jacuzzi</th>\n",
       "      <th>yard</th>\n",
       "      <th>private yard</th>\n",
       "      <th>underground</th>\n",
       "      <th>sauna</th>\n",
       "      <th>Heating</th>\n",
       "      <th>fan cooler</th>\n",
       "      <th>user</th>\n",
       "      <th>patio</th>\n",
       "      <th>package</th>\n",
       "      <th>chiller</th>\n",
       "      <th>cooler</th>\n",
       "      <th>gas</th>\n",
       "    </tr>\n",
       "  </thead>\n",
       "  <tbody>\n",
       "    <tr>\n",
       "      <th>0</th>\n",
       "      <td>1</td>\n",
       "      <td>0</td>\n",
       "      <td>0</td>\n",
       "      <td>0</td>\n",
       "      <td>0</td>\n",
       "      <td>0</td>\n",
       "      <td>0</td>\n",
       "      <td>1</td>\n",
       "      <td>0</td>\n",
       "      <td>0</td>\n",
       "      <td>0</td>\n",
       "      <td>0</td>\n",
       "      <td>0</td>\n",
       "      <td>1</td>\n",
       "      <td>1</td>\n",
       "    </tr>\n",
       "    <tr>\n",
       "      <th>1</th>\n",
       "      <td>1</td>\n",
       "      <td>0</td>\n",
       "      <td>0</td>\n",
       "      <td>0</td>\n",
       "      <td>0</td>\n",
       "      <td>0</td>\n",
       "      <td>0</td>\n",
       "      <td>1</td>\n",
       "      <td>0</td>\n",
       "      <td>0</td>\n",
       "      <td>0</td>\n",
       "      <td>0</td>\n",
       "      <td>0</td>\n",
       "      <td>1</td>\n",
       "      <td>1</td>\n",
       "    </tr>\n",
       "    <tr>\n",
       "      <th>2</th>\n",
       "      <td>0</td>\n",
       "      <td>0</td>\n",
       "      <td>0</td>\n",
       "      <td>0</td>\n",
       "      <td>0</td>\n",
       "      <td>0</td>\n",
       "      <td>0</td>\n",
       "      <td>1</td>\n",
       "      <td>0</td>\n",
       "      <td>0</td>\n",
       "      <td>0</td>\n",
       "      <td>0</td>\n",
       "      <td>0</td>\n",
       "      <td>1</td>\n",
       "      <td>1</td>\n",
       "    </tr>\n",
       "    <tr>\n",
       "      <th>3</th>\n",
       "      <td>1</td>\n",
       "      <td>0</td>\n",
       "      <td>0</td>\n",
       "      <td>0</td>\n",
       "      <td>0</td>\n",
       "      <td>0</td>\n",
       "      <td>0</td>\n",
       "      <td>1</td>\n",
       "      <td>0</td>\n",
       "      <td>0</td>\n",
       "      <td>0</td>\n",
       "      <td>0</td>\n",
       "      <td>0</td>\n",
       "      <td>1</td>\n",
       "      <td>1</td>\n",
       "    </tr>\n",
       "    <tr>\n",
       "      <th>4</th>\n",
       "      <td>1</td>\n",
       "      <td>0</td>\n",
       "      <td>0</td>\n",
       "      <td>0</td>\n",
       "      <td>0</td>\n",
       "      <td>0</td>\n",
       "      <td>0</td>\n",
       "      <td>1</td>\n",
       "      <td>0</td>\n",
       "      <td>0</td>\n",
       "      <td>0</td>\n",
       "      <td>0</td>\n",
       "      <td>0</td>\n",
       "      <td>1</td>\n",
       "      <td>1</td>\n",
       "    </tr>\n",
       "    <tr>\n",
       "      <th>...</th>\n",
       "      <td>...</td>\n",
       "      <td>...</td>\n",
       "      <td>...</td>\n",
       "      <td>...</td>\n",
       "      <td>...</td>\n",
       "      <td>...</td>\n",
       "      <td>...</td>\n",
       "      <td>...</td>\n",
       "      <td>...</td>\n",
       "      <td>...</td>\n",
       "      <td>...</td>\n",
       "      <td>...</td>\n",
       "      <td>...</td>\n",
       "      <td>...</td>\n",
       "      <td>...</td>\n",
       "    </tr>\n",
       "    <tr>\n",
       "      <th>958</th>\n",
       "      <td>1</td>\n",
       "      <td>0</td>\n",
       "      <td>0</td>\n",
       "      <td>0</td>\n",
       "      <td>0</td>\n",
       "      <td>0</td>\n",
       "      <td>0</td>\n",
       "      <td>0</td>\n",
       "      <td>0</td>\n",
       "      <td>0</td>\n",
       "      <td>0</td>\n",
       "      <td>1</td>\n",
       "      <td>0</td>\n",
       "      <td>1</td>\n",
       "      <td>1</td>\n",
       "    </tr>\n",
       "    <tr>\n",
       "      <th>959</th>\n",
       "      <td>0</td>\n",
       "      <td>0</td>\n",
       "      <td>0</td>\n",
       "      <td>0</td>\n",
       "      <td>0</td>\n",
       "      <td>0</td>\n",
       "      <td>0</td>\n",
       "      <td>0</td>\n",
       "      <td>0</td>\n",
       "      <td>0</td>\n",
       "      <td>0</td>\n",
       "      <td>1</td>\n",
       "      <td>0</td>\n",
       "      <td>1</td>\n",
       "      <td>1</td>\n",
       "    </tr>\n",
       "    <tr>\n",
       "      <th>960</th>\n",
       "      <td>0</td>\n",
       "      <td>0</td>\n",
       "      <td>0</td>\n",
       "      <td>0</td>\n",
       "      <td>0</td>\n",
       "      <td>0</td>\n",
       "      <td>0</td>\n",
       "      <td>0</td>\n",
       "      <td>0</td>\n",
       "      <td>0</td>\n",
       "      <td>0</td>\n",
       "      <td>0</td>\n",
       "      <td>0</td>\n",
       "      <td>1</td>\n",
       "      <td>1</td>\n",
       "    </tr>\n",
       "    <tr>\n",
       "      <th>961</th>\n",
       "      <td>1</td>\n",
       "      <td>0</td>\n",
       "      <td>0</td>\n",
       "      <td>0</td>\n",
       "      <td>0</td>\n",
       "      <td>0</td>\n",
       "      <td>0</td>\n",
       "      <td>1</td>\n",
       "      <td>0</td>\n",
       "      <td>0</td>\n",
       "      <td>0</td>\n",
       "      <td>0</td>\n",
       "      <td>0</td>\n",
       "      <td>1</td>\n",
       "      <td>1</td>\n",
       "    </tr>\n",
       "    <tr>\n",
       "      <th>962</th>\n",
       "      <td>1</td>\n",
       "      <td>0</td>\n",
       "      <td>0</td>\n",
       "      <td>0</td>\n",
       "      <td>0</td>\n",
       "      <td>0</td>\n",
       "      <td>0</td>\n",
       "      <td>1</td>\n",
       "      <td>0</td>\n",
       "      <td>0</td>\n",
       "      <td>0</td>\n",
       "      <td>0</td>\n",
       "      <td>0</td>\n",
       "      <td>1</td>\n",
       "      <td>1</td>\n",
       "    </tr>\n",
       "  </tbody>\n",
       "</table>\n",
       "<p>963 rows × 15 columns</p>\n",
       "</div>"
      ],
      "text/plain": [
       "     elevator  pool  jacuzzi  yard  private yard  underground  sauna  Heating  \\\n",
       "0           1     0        0     0             0            0      0        1   \n",
       "1           1     0        0     0             0            0      0        1   \n",
       "2           0     0        0     0             0            0      0        1   \n",
       "3           1     0        0     0             0            0      0        1   \n",
       "4           1     0        0     0             0            0      0        1   \n",
       "..        ...   ...      ...   ...           ...          ...    ...      ...   \n",
       "958         1     0        0     0             0            0      0        0   \n",
       "959         0     0        0     0             0            0      0        0   \n",
       "960         0     0        0     0             0            0      0        0   \n",
       "961         1     0        0     0             0            0      0        1   \n",
       "962         1     0        0     0             0            0      0        1   \n",
       "\n",
       "     fan cooler  user  patio  package  chiller  cooler  gas  \n",
       "0             0     0      0        0        0       1    1  \n",
       "1             0     0      0        0        0       1    1  \n",
       "2             0     0      0        0        0       1    1  \n",
       "3             0     0      0        0        0       1    1  \n",
       "4             0     0      0        0        0       1    1  \n",
       "..          ...   ...    ...      ...      ...     ...  ...  \n",
       "958           0     0      0        1        0       1    1  \n",
       "959           0     0      0        1        0       1    1  \n",
       "960           0     0      0        0        0       1    1  \n",
       "961           0     0      0        0        0       1    1  \n",
       "962           0     0      0        0        0       1    1  \n",
       "\n",
       "[963 rows x 15 columns]"
      ]
     },
     "execution_count": 29,
     "metadata": {},
     "output_type": "execute_result"
    }
   ],
   "source": [
    "\n",
    "# Splitting the 'equipment' column into separate columns\n",
    "df_equipment = df_house[\"equipment\"].str.get_dummies(sep='_')\n",
    "\n",
    "# give new list for new name of the column\n",
    "df_equipmentColumnsName=['elevator', 'pool', 'jacuzzi', 'yard', 'private yard', 'underground', 'sauna',\n",
    "        'Heating', 'fan cooler', 'user', 'patio', 'package', 'chiller', 'cooler', 'gas']\n",
    "\n",
    "# change the name of the column\n",
    "df_equipment = df_equipment.rename(columns=dict(zip(df_equipment.columns, df_equipmentColumnsName)))\n",
    "\n",
    "# Printing the updated DataFrame\n",
    "df_equipment"
   ]
  },
  {
   "cell_type": "markdown",
   "metadata": {},
   "source": [
    "##### concatenate data frame"
   ]
  },
  {
   "cell_type": "code",
   "execution_count": 30,
   "metadata": {},
   "outputs": [],
   "source": [
    "df_house_C = pd.concat([df_house, df_equipment], axis=1)"
   ]
  },
  {
   "cell_type": "code",
   "execution_count": 31,
   "metadata": {},
   "outputs": [],
   "source": [
    "\n",
    "selected_house_df = df_house_C.loc[:, ['num_floor', 'unit_per_floor', 'price','squaremeters','price_per_meter',\n",
    "                                 'agecode', 'statuscode', 'viewcode',\n",
    "                                 'ownershiptypecode', 'north', 'south',\n",
    "                                 'west', 'east', 'floorcode',\n",
    "                                 'num_sleep', 'tel', 'cabinetmaterialcode',\n",
    "                                 'toilettypecode', 'floormaterialcode', 'open',\n",
    "                                 'parking', 'warehouse', 'balcony',\n",
    "                                 'elevator', 'pool', 'jacuzzi',\n",
    "                                 'yard', 'private yard', 'underground',\n",
    "                                 'sauna', 'Heating', 'fan cooler',\n",
    "                                 'user', 'patio', 'package',\n",
    "                                 'chiller', 'cooler', 'gas',\n",
    "                                 \n",
    "                                 \n",
    "                                 ]]"
   ]
  },
  {
   "cell_type": "code",
   "execution_count": 32,
   "metadata": {},
   "outputs": [
    {
     "name": "stdout",
     "output_type": "stream",
     "text": [
      "<class 'pandas.core.frame.DataFrame'>\n",
      "RangeIndex: 963 entries, 0 to 962\n",
      "Data columns (total 38 columns):\n",
      " #   Column               Non-Null Count  Dtype  \n",
      "---  ------               --------------  -----  \n",
      " 0   num_floor            963 non-null    int64  \n",
      " 1   unit_per_floor       963 non-null    object \n",
      " 2   price                963 non-null    int64  \n",
      " 3   squaremeters         963 non-null    int64  \n",
      " 4   price_per_meter      963 non-null    float64\n",
      " 5   agecode              963 non-null    int32  \n",
      " 6   statuscode           963 non-null    int32  \n",
      " 7   viewcode             963 non-null    int32  \n",
      " 8   ownershiptypecode    963 non-null    int32  \n",
      " 9   north                963 non-null    int64  \n",
      " 10  south                963 non-null    int64  \n",
      " 11  west                 963 non-null    int64  \n",
      " 12  east                 963 non-null    int64  \n",
      " 13  floorcode            963 non-null    int32  \n",
      " 14  num_sleep            963 non-null    int64  \n",
      " 15  tel                  963 non-null    int64  \n",
      " 16  cabinetmaterialcode  963 non-null    int32  \n",
      " 17  toilettypecode       963 non-null    int32  \n",
      " 18  floormaterialcode    963 non-null    int32  \n",
      " 19  open                 963 non-null    int64  \n",
      " 20  parking              963 non-null    int64  \n",
      " 21  warehouse            963 non-null    int64  \n",
      " 22  balcony              963 non-null    int64  \n",
      " 23  elevator             963 non-null    int64  \n",
      " 24  pool                 963 non-null    int64  \n",
      " 25  jacuzzi              963 non-null    int64  \n",
      " 26  yard                 963 non-null    int64  \n",
      " 27  private yard         963 non-null    int64  \n",
      " 28  underground          963 non-null    int64  \n",
      " 29  sauna                963 non-null    int64  \n",
      " 30  Heating              963 non-null    int64  \n",
      " 31  fan cooler           963 non-null    int64  \n",
      " 32  user                 963 non-null    int64  \n",
      " 33  patio                963 non-null    int64  \n",
      " 34  package              963 non-null    int64  \n",
      " 35  chiller              963 non-null    int64  \n",
      " 36  cooler               963 non-null    int64  \n",
      " 37  gas                  963 non-null    int64  \n",
      "dtypes: float64(1), int32(8), int64(28), object(1)\n",
      "memory usage: 255.9+ KB\n"
     ]
    }
   ],
   "source": [
    "selected_house_df.info()"
   ]
  },
  {
   "cell_type": "code",
   "execution_count": 68,
   "metadata": {},
   "outputs": [
    {
     "data": {
      "application/vnd.plotly.v1+json": {
       "config": {
        "plotlyServerURL": "https://plot.ly"
       },
       "data": [
        {
         "coloraxis": "coloraxis",
         "hovertemplate": "x: %{x}<br>y: %{y}<br>color: %{z}<extra></extra>",
         "name": "0",
         "showscale": false,
         "text": [
          [
           1,
           0.75,
           0.27,
           0.26,
           0.25,
           0.24,
           -0.01,
           0.1,
           -0.48,
           -0.01,
           0.04,
           0.02,
           -0.06,
           0.08,
           0.21,
           -0.05,
           0.03,
           -0.26,
           -0.09,
           0.08,
           0.3,
           0.11,
           0.22,
           0.42,
           0,
           0,
           -0.03,
           0.04,
           0,
           0,
           0.06,
           0.12,
           0.04,
           -0.02,
           0.06,
           0.12,
           -0.11,
           -0.07
          ],
          [
           0.75,
           1,
           0.08,
           0.05,
           0.13,
           0.15,
           -0.02,
           0.03,
           -0.42,
           -0.04,
           0.02,
           0.04,
           -0.01,
           0.06,
           0.04,
           -0.05,
           -0.01,
           -0.1,
           -0.1,
           0.03,
           0.24,
           0.11,
           0.08,
           0.27,
           -0.03,
           -0.04,
           0.02,
           0.02,
           -0.01,
           -0.01,
           0.08,
           0.04,
           0.06,
           0.03,
           -0.05,
           0.09,
           -0.05,
           -0.07
          ],
          [
           0.27,
           0.08,
           1,
           0.9,
           0.78,
           0.26,
           -0.15,
           0.01,
           -0.12,
           0.1,
           0,
           0,
           -0.06,
           -0.04,
           0.76,
           0.22,
           0.08,
           -0.44,
           0.07,
           0.09,
           0.44,
           0.2,
           0.34,
           0.4,
           0.06,
           0.15,
           0.03,
           -0.01,
           -0.01,
           0.08,
           0.08,
           0.02,
           0.01,
           -0.05,
           0.13,
           0.2,
           -0.09,
           -0.03
          ],
          [
           0.26,
           0.05,
           0.9,
           1,
           0.52,
           0.25,
           -0.08,
           0.02,
           -0.1,
           0.11,
           -0.03,
           0,
           -0.05,
           -0.02,
           0.83,
           0.23,
           0.1,
           -0.41,
           0.02,
           0.11,
           0.42,
           0.2,
           0.37,
           0.34,
           0.06,
           0.13,
           0.01,
           -0.05,
           0.01,
           0.07,
           0.09,
           0.01,
           0,
           -0.05,
           0.13,
           0.13,
           -0.1,
           -0.01
          ],
          [
           0.25,
           0.13,
           0.78,
           0.52,
           1,
           0.22,
           -0.23,
           0.01,
           -0.2,
           0.07,
           0.03,
           -0.02,
           -0.08,
           -0.07,
           0.47,
           0.05,
           0.02,
           -0.48,
           0.13,
           0.07,
           0.49,
           0.23,
           0.31,
           0.49,
           0.04,
           0.11,
           0.06,
           0.06,
           -0.03,
           0.07,
           0.16,
           0.03,
           0.02,
           -0.04,
           0.15,
           0.19,
           -0.07,
           -0.05
          ],
          [
           0.24,
           0.15,
           0.26,
           0.25,
           0.22,
           1,
           -0.04,
           -0.05,
           -0.06,
           0.02,
           -0.02,
           0,
           -0.02,
           -0.04,
           0.2,
           0.03,
           0.03,
           -0.2,
           -0.05,
           0.02,
           0.2,
           0.07,
           0.15,
           0.18,
           0.01,
           0,
           -0.03,
           -0.02,
           -0.01,
           -0.05,
           -0.07,
           0.04,
           -0.02,
           0,
           0.17,
           0.09,
           -0.07,
           -0.01
          ],
          [
           -0.01,
           -0.02,
           -0.15,
           -0.08,
           -0.23,
           -0.04,
           1,
           0.02,
           -0.03,
           -0.13,
           0.11,
           -0.06,
           -0.1,
           0.03,
           -0.07,
           -0.01,
           0.04,
           0.2,
           -0.15,
           0.06,
           -0.02,
           0.01,
           -0.11,
           -0.1,
           0.05,
           -0.01,
           0.03,
           -0.03,
           0.01,
           0.02,
           -0.2,
           0.05,
           -0.01,
           0.03,
           0,
           0,
           -0.02,
           0.03
          ],
          [
           0.1,
           0.03,
           0.01,
           0.02,
           0.01,
           -0.05,
           0.02,
           1,
           -0.11,
           0.02,
           -0.01,
           -0.1,
           -0.03,
           -0.01,
           0.01,
           0.05,
           0,
           0.02,
           -0.06,
           0.02,
           0.05,
           0.01,
           -0.06,
           0.1,
           0,
           0,
           0.01,
           0.02,
           0.08,
           0,
           0.12,
           0.14,
           -0.03,
           0.02,
           -0.04,
           -0.03,
           -0.02,
           0.02
          ],
          [
           -0.48,
           -0.42,
           -0.12,
           -0.1,
           -0.2,
           -0.06,
           -0.03,
           -0.11,
           1,
           0.05,
           -0.04,
           -0.02,
           0.02,
           0,
           -0.1,
           0,
           -0.02,
           0.17,
           0.03,
           -0.06,
           -0.29,
           -0.26,
           -0.2,
           -0.26,
           0,
           0,
           -0.06,
           -0.03,
           0.1,
           0,
           -0.14,
           -0.08,
           0,
           0.03,
           -0.05,
           -0.02,
           0.02,
           0.04
          ],
          [
           -0.01,
           -0.04,
           0.1,
           0.11,
           0.07,
           0.02,
           -0.13,
           0.02,
           0.05,
           1,
           -0.77,
           -0.12,
           -0.11,
           -0.01,
           0.08,
           -0.01,
           -0.01,
           -0.04,
           0.01,
           0,
           0.12,
           -0.02,
           0,
           0.06,
           0,
           0,
           -0.01,
           0.01,
           0.02,
           0.04,
           0.09,
           0,
           -0.02,
           0.01,
           0.02,
           -0.06,
           0.06,
           0.01
          ],
          [
           0.04,
           0.02,
           0,
           -0.03,
           0.03,
           -0.02,
           0.11,
           -0.01,
           -0.04,
           -0.77,
           1,
           -0.12,
           -0.17,
           0.02,
           -0.02,
           0.01,
           0.01,
           0.01,
           0,
           0,
           -0.06,
           -0.01,
           0.05,
           -0.02,
           0,
           0.03,
           0.01,
           0.03,
           -0.02,
           0,
           -0.09,
           0.04,
           0.02,
           -0.02,
           -0.02,
           0.08,
           -0.06,
           -0.01
          ],
          [
           0.02,
           0.04,
           0,
           0,
           -0.02,
           0,
           -0.06,
           -0.1,
           -0.02,
           -0.12,
           -0.12,
           1,
           0.33,
           0.04,
           0.02,
           0,
           0,
           0,
           0.01,
           -0.03,
           0.01,
           0.02,
           0.06,
           -0.01,
           -0.01,
           -0.01,
           -0.02,
           -0.02,
           -0.01,
           -0.01,
           0.01,
           -0.01,
           -0.01,
           0.15,
           0.01,
           0.03,
           0.03,
           0.02
          ],
          [
           -0.06,
           -0.01,
           -0.06,
           -0.05,
           -0.08,
           -0.02,
           -0.1,
           -0.03,
           0.02,
           -0.11,
           -0.17,
           0.33,
           1,
           -0.01,
           -0.04,
           0,
           0.01,
           0.04,
           0.04,
           -0.03,
           -0.06,
           0.02,
           -0.01,
           -0.04,
           -0.01,
           -0.01,
           0.03,
           -0.02,
           -0.01,
           -0.01,
           0.03,
           -0.01,
           -0.01,
           -0.01,
           -0.02,
           0.03,
           0.03,
           0.02
          ],
          [
           0.08,
           0.06,
           -0.04,
           -0.02,
           -0.07,
           -0.04,
           0.03,
           -0.01,
           0,
           -0.01,
           0.02,
           0.04,
           -0.01,
           1,
           0,
           0,
           0.01,
           0.03,
           -0.08,
           0.02,
           -0.01,
           0.01,
           -0.08,
           -0.02,
           -0.03,
           -0.06,
           -0.06,
           -0.1,
           0.05,
           0.02,
           0.03,
           0.05,
           0.02,
           -0.04,
           -0.05,
           0.01,
           0.01,
           -0.03
          ],
          [
           0.21,
           0.04,
           0.76,
           0.83,
           0.47,
           0.2,
           -0.07,
           0.01,
           -0.1,
           0.08,
           -0.02,
           0.02,
           -0.04,
           0,
           1,
           0.27,
           0.07,
           -0.38,
           0.05,
           0.11,
           0.41,
           0.21,
           0.3,
           0.32,
           0.07,
           0.11,
           0.04,
           -0.03,
           -0.02,
           0.07,
           0.13,
           0,
           0.01,
           -0.03,
           0.13,
           0.07,
           -0.08,
           -0.02
          ],
          [
           -0.05,
           -0.05,
           0.22,
           0.23,
           0.05,
           0.03,
           -0.01,
           0.05,
           0,
           -0.01,
           0.01,
           0,
           0,
           0,
           0.27,
           1,
           -0.02,
           0,
           0.04,
           0,
           -0.03,
           0,
           -0.01,
           -0.05,
           0,
           0,
           0,
           0.07,
           0,
           0,
           0.05,
           0,
           0,
           0,
           -0.03,
           -0.11,
           0.05,
           0.05
          ],
          [
           0.03,
           -0.01,
           0.08,
           0.1,
           0.02,
           0.03,
           0.04,
           0,
           -0.02,
           -0.01,
           0.01,
           0,
           0.01,
           0.01,
           0.07,
           -0.02,
           1,
           -0.07,
           0.03,
           -0.05,
           0.03,
           0.03,
           0.09,
           0.04,
           -0.02,
           -0.03,
           0.01,
           -0.04,
           -0.02,
           -0.02,
           -0.08,
           -0.02,
           -0.02,
           -0.03,
           0.03,
           0.08,
           -0.13,
           -0.07
          ],
          [
           -0.26,
           -0.1,
           -0.44,
           -0.41,
           -0.48,
           -0.2,
           0.2,
           0.02,
           0.17,
           -0.04,
           0.01,
           0,
           0.04,
           0.03,
           -0.38,
           0,
           -0.07,
           1,
           -0.01,
           -0.17,
           -0.41,
           -0.19,
           -0.33,
           -0.48,
           -0.03,
           -0.05,
           0.04,
           -0.01,
           0,
           -0.03,
           -0.16,
           0.1,
           -0.04,
           0,
           -0.22,
           -0.07,
           0.08,
           0.02
          ],
          [
           -0.09,
           -0.1,
           0.07,
           0.02,
           0.13,
           -0.05,
           -0.15,
           -0.06,
           0.03,
           0.01,
           0,
           0.01,
           0.04,
           -0.08,
           0.05,
           0.04,
           0.03,
           -0.01,
           1,
           -0.06,
           0,
           0.04,
           0.03,
           -0.02,
           -0.02,
           -0.02,
           -0.01,
           0.05,
           -0.01,
           -0.02,
           0.08,
           -0.02,
           -0.01,
           -0.03,
           0,
           -0.02,
           0.03,
           -0.04
          ],
          [
           0.08,
           0.03,
           0.09,
           0.11,
           0.07,
           0.02,
           0.06,
           0.02,
           -0.06,
           0,
           0,
           -0.03,
           -0.03,
           0.02,
           0.11,
           0,
           -0.05,
           -0.17,
           -0.06,
           1,
           0.12,
           0.02,
           0.04,
           0.16,
           0.01,
           0.01,
           0.02,
           0.02,
           0.01,
           0.01,
           0.04,
           -0.12,
           0.01,
           -0.07,
           0.04,
           0.02,
           0.01,
           -0.02
          ],
          [
           0.3,
           0.24,
           0.44,
           0.42,
           0.49,
           0.2,
           -0.02,
           0.05,
           -0.29,
           0.12,
           -0.06,
           0.01,
           -0.06,
           -0.01,
           0.41,
           -0.03,
           0.03,
           -0.41,
           0,
           0.12,
           1,
           0.23,
           0.33,
           0.5,
           0.03,
           0.04,
           0.03,
           -0.06,
           -0.01,
           0.03,
           0.17,
           0.03,
           0.04,
           -0.02,
           0.23,
           0.08,
           -0.08,
           -0.07
          ],
          [
           0.11,
           0.11,
           0.2,
           0.2,
           0.23,
           0.07,
           0.01,
           0.01,
           -0.26,
           -0.02,
           -0.01,
           0.02,
           0.02,
           0.01,
           0.21,
           0,
           0.03,
           -0.19,
           0.04,
           0.02,
           0.23,
           1,
           0.14,
           0.16,
           0.01,
           0.02,
           -0.03,
           -0.08,
           -0.04,
           0.01,
           0.13,
           0.01,
           0.02,
           -0.07,
           0.08,
           0.01,
           -0.02,
           -0.01
          ],
          [
           0.22,
           0.08,
           0.34,
           0.37,
           0.31,
           0.15,
           -0.11,
           -0.06,
           -0.2,
           0,
           0.05,
           0.06,
           -0.01,
           -0.08,
           0.3,
           -0.01,
           0.09,
           -0.33,
           0.03,
           0.04,
           0.33,
           0.14,
           1,
           0.31,
           0.04,
           0.05,
           -0.01,
           -0.08,
           -0.03,
           0.04,
           0.07,
           0.04,
           0.04,
           -0.06,
           0.19,
           0.1,
           -0.09,
           -0.05
          ],
          [
           0.42,
           0.27,
           0.4,
           0.34,
           0.49,
           0.18,
           -0.1,
           0.1,
           -0.26,
           0.06,
           -0.02,
           -0.01,
           -0.04,
           -0.02,
           0.32,
           -0.05,
           0.04,
           -0.48,
           -0.02,
           0.16,
           0.5,
           0.16,
           0.31,
           1,
           0.03,
           0.05,
           0,
           0,
           0,
           0.03,
           0.19,
           0.03,
           0.04,
           -0.01,
           0.33,
           0.09,
           -0.09,
           -0.07
          ],
          [
           0,
           -0.03,
           0.06,
           0.06,
           0.04,
           0.01,
           0.05,
           0,
           0,
           0,
           0,
           -0.01,
           -0.01,
           -0.03,
           0.07,
           0,
           -0.02,
           -0.03,
           -0.02,
           0.01,
           0.03,
           0.01,
           0.04,
           0.03,
           1,
           0.35,
           -0.01,
           0,
           0,
           0.5,
           -0.02,
           0,
           0,
           0,
           -0.03,
           -0.01,
           -0.15,
           0.01
          ],
          [
           0,
           -0.04,
           0.15,
           0.13,
           0.11,
           0,
           -0.01,
           0,
           0,
           0,
           0.03,
           -0.01,
           -0.01,
           -0.06,
           0.11,
           0,
           -0.03,
           -0.05,
           -0.02,
           0.01,
           0.04,
           0.02,
           0.05,
           0.05,
           0.35,
           1,
           0.14,
           -0.01,
           0,
           0.35,
           -0.06,
           0,
           0,
           0,
           0.03,
           -0.01,
           -0.21,
           0.01
          ],
          [
           -0.03,
           0.02,
           0.03,
           0.01,
           0.06,
           -0.03,
           0.03,
           0.01,
           -0.06,
           -0.01,
           0.01,
           -0.02,
           0.03,
           -0.06,
           0.04,
           0,
           0.01,
           0.04,
           -0.01,
           0.02,
           0.03,
           -0.03,
           -0.01,
           0,
           -0.01,
           0.14,
           1,
           -0.01,
           0.16,
           0.2,
           0,
           -0.01,
           -0.01,
           -0.01,
           -0.01,
           -0.01,
           -0.05,
           -0.06
          ],
          [
           0.04,
           0.02,
           -0.01,
           -0.05,
           0.06,
           -0.02,
           -0.03,
           0.02,
           -0.03,
           0.01,
           0.03,
           -0.02,
           -0.02,
           -0.1,
           -0.03,
           0.07,
           -0.04,
           -0.01,
           0.05,
           0.02,
           -0.06,
           -0.08,
           -0.08,
           0,
           0,
           -0.01,
           -0.01,
           1,
           -0.01,
           0,
           0.02,
           0,
           -0.01,
           -0.01,
           -0.04,
           -0.01,
           0.01,
           0.01
          ],
          [
           0,
           -0.01,
           -0.01,
           0.01,
           -0.03,
           -0.01,
           0.01,
           0.08,
           0.1,
           0.02,
           -0.02,
           -0.01,
           -0.01,
           0.05,
           -0.02,
           0,
           -0.02,
           0,
           -0.01,
           0.01,
           -0.01,
           -0.04,
           -0.03,
           0,
           0,
           0,
           0.16,
           -0.01,
           1,
           0,
           -0.04,
           0,
           0.33,
           0,
           0,
           0.15,
           0.01,
           0.01
          ],
          [
           0,
           -0.01,
           0.08,
           0.07,
           0.07,
           -0.05,
           0.02,
           0,
           0,
           0.04,
           0,
           -0.01,
           -0.01,
           0.02,
           0.07,
           0,
           -0.02,
           -0.03,
           -0.02,
           0.01,
           0.03,
           0.01,
           0.04,
           0.03,
           0.5,
           0.35,
           0.2,
           0,
           0,
           1,
           -0.02,
           0,
           0,
           0,
           0.02,
           -0.01,
           0.01,
           0.01
          ],
          [
           0.06,
           0.08,
           0.08,
           0.09,
           0.16,
           -0.07,
           -0.2,
           0.12,
           -0.14,
           0.09,
           -0.09,
           0.01,
           0.03,
           0.03,
           0.13,
           0.05,
           -0.08,
           -0.16,
           0.08,
           0.04,
           0.17,
           0.13,
           0.07,
           0.19,
           -0.02,
           -0.06,
           0,
           0.02,
           -0.04,
           -0.02,
           1,
           -0.07,
           0,
           -0.04,
           -0.15,
           -0.16,
           0.17,
           0.05
          ],
          [
           0.12,
           0.04,
           0.02,
           0.01,
           0.03,
           0.04,
           0.05,
           0.14,
           -0.08,
           0,
           0.04,
           -0.01,
           -0.01,
           0.05,
           0,
           0,
           -0.02,
           0.1,
           -0.02,
           -0.12,
           0.03,
           0.01,
           0.04,
           0.03,
           0,
           0,
           -0.01,
           0,
           0,
           0,
           -0.07,
           1,
           0,
           0,
           -0.03,
           -0.01,
           -0.15,
           0.01
          ],
          [
           0.04,
           0.06,
           0.01,
           0,
           0.02,
           -0.02,
           -0.01,
           -0.03,
           0,
           -0.02,
           0.02,
           -0.01,
           -0.01,
           0.02,
           0.01,
           0,
           -0.02,
           -0.04,
           -0.01,
           0.01,
           0.04,
           0.02,
           0.04,
           0.04,
           0,
           0,
           -0.01,
           -0.01,
           0.33,
           0,
           0,
           0,
           1,
           0,
           0.04,
           0.15,
           0.01,
           -0.14
          ],
          [
           -0.02,
           0.03,
           -0.05,
           -0.05,
           -0.04,
           0,
           0.03,
           0.02,
           0.03,
           0.01,
           -0.02,
           0.15,
           -0.01,
           -0.04,
           -0.03,
           0,
           -0.03,
           0,
           -0.03,
           -0.07,
           -0.02,
           -0.07,
           -0.06,
           -0.01,
           0,
           0,
           -0.01,
           -0.01,
           0,
           0,
           -0.04,
           0,
           0,
           1,
           0.05,
           -0.01,
           0.01,
           0.01
          ],
          [
           0.06,
           -0.05,
           0.13,
           0.13,
           0.15,
           0.17,
           0,
           -0.04,
           -0.05,
           0.02,
           -0.02,
           0.01,
           -0.02,
           -0.05,
           0.13,
           -0.03,
           0.03,
           -0.22,
           0,
           0.04,
           0.23,
           0.08,
           0.19,
           0.33,
           -0.03,
           0.03,
           -0.01,
           -0.04,
           0,
           0.02,
           -0.15,
           -0.03,
           0.04,
           0.05,
           1,
           -0.04,
           -0.09,
           0
          ],
          [
           0.12,
           0.09,
           0.2,
           0.13,
           0.19,
           0.09,
           0,
           -0.03,
           -0.02,
           -0.06,
           0.08,
           0.03,
           0.03,
           0.01,
           0.07,
           -0.11,
           0.08,
           -0.07,
           -0.02,
           0.02,
           0.08,
           0.01,
           0.1,
           0.09,
           -0.01,
           -0.01,
           -0.01,
           -0.01,
           0.15,
           -0.01,
           -0.16,
           -0.01,
           0.15,
           -0.01,
           -0.04,
           1,
           -0.1,
           -0.05
          ],
          [
           -0.11,
           -0.05,
           -0.09,
           -0.1,
           -0.07,
           -0.07,
           -0.02,
           -0.02,
           0.02,
           0.06,
           -0.06,
           0.03,
           0.03,
           0.01,
           -0.08,
           0.05,
           -0.13,
           0.08,
           0.03,
           0.01,
           -0.08,
           -0.02,
           -0.09,
           -0.09,
           -0.15,
           -0.21,
           -0.05,
           0.01,
           0.01,
           0.01,
           0.17,
           -0.15,
           0.01,
           0.01,
           -0.09,
           -0.1,
           1,
           0.2
          ],
          [
           -0.07,
           -0.07,
           -0.03,
           -0.01,
           -0.05,
           -0.01,
           0.03,
           0.02,
           0.04,
           0.01,
           -0.01,
           0.02,
           0.02,
           -0.03,
           -0.02,
           0.05,
           -0.07,
           0.02,
           -0.04,
           -0.02,
           -0.07,
           -0.01,
           -0.05,
           -0.07,
           0.01,
           0.01,
           -0.06,
           0.01,
           0.01,
           0.01,
           0.05,
           0.01,
           -0.14,
           0.01,
           0,
           -0.05,
           0.2,
           1
          ]
         ],
         "type": "heatmap",
         "x": [
          "num_floor",
          "unit_per_floor",
          "price",
          "squaremeters",
          "price_per_meter",
          "agecode",
          "statuscode",
          "viewcode",
          "ownershiptypecode",
          "north",
          "south",
          "west",
          "east",
          "floorcode",
          "num_sleep",
          "tel",
          "cabinetmaterialcode",
          "toilettypecode",
          "floormaterialcode",
          "open",
          "parking",
          "warehouse",
          "balcony",
          "elevator",
          "pool",
          "jacuzzi",
          "yard",
          "private yard",
          "underground",
          "sauna",
          "Heating",
          "fan cooler",
          "user",
          "patio",
          "package",
          "chiller",
          "cooler",
          "gas"
         ],
         "xaxis": "x",
         "y": [
          "num_floor",
          "unit_per_floor",
          "price",
          "squaremeters",
          "price_per_meter",
          "agecode",
          "statuscode",
          "viewcode",
          "ownershiptypecode",
          "north",
          "south",
          "west",
          "east",
          "floorcode",
          "num_sleep",
          "tel",
          "cabinetmaterialcode",
          "toilettypecode",
          "floormaterialcode",
          "open",
          "parking",
          "warehouse",
          "balcony",
          "elevator",
          "pool",
          "jacuzzi",
          "yard",
          "private yard",
          "underground",
          "sauna",
          "Heating",
          "fan cooler",
          "user",
          "patio",
          "package",
          "chiller",
          "cooler",
          "gas"
         ],
         "yaxis": "y",
         "z": [
          [
           1,
           0.7454877096883733,
           0.2707537345819647,
           0.26164028789548405,
           0.25270394589217277,
           0.2409614437335593,
           -0.012043499244902691,
           0.09799067454506781,
           -0.4813383219983793,
           -0.006460917261078899,
           0.04206039794663489,
           0.02003687831550041,
           -0.061477106435342266,
           0.07959551216873818,
           0.2065359019362322,
           -0.045414152985861975,
           0.028608327366801505,
           -0.2560020733174704,
           -0.09093224191780543,
           0.07623141051816687,
           0.3016706272472584,
           0.11434696407039537,
           0.22045187307423778,
           0.41846997671871544,
           -0.0030433279027376405,
           -0.0043084011776690955,
           -0.0325507223256008,
           0.041666882296338734,
           0.0045838587755865235,
           -0.0030433279027375997,
           0.06471069590618564,
           0.11907020419460919,
           0.037836258028993486,
           -0.02415750494484185,
           0.05918146362890548,
           0.11962240566992663,
           -0.1074010918499978,
           -0.06743909604951528
          ],
          [
           0.7454877096883733,
           1,
           0.07540017495531803,
           0.04890585645467957,
           0.12717689481828875,
           0.14632176735939642,
           -0.02165761993978951,
           0.028294202316429314,
           -0.4223237571447254,
           -0.039960958293804034,
           0.024164448995172713,
           0.03535459231469409,
           -0.01365365903582537,
           0.06339614380726454,
           0.03668675749721244,
           -0.05305585822410217,
           -0.008911847084215099,
           -0.10007941076426088,
           -0.10237758041088227,
           0.027841917217660272,
           0.2391294383027644,
           0.10727952315312474,
           0.07693519172645864,
           0.2730881687917264,
           -0.02722908261896134,
           -0.03854787107128785,
           0.01991268208793916,
           0.020798270963686596,
           -0.012758613078382513,
           -0.007048514452982262,
           0.08209354281676957,
           0.04340290596196531,
           0.06142813778302487,
           0.03038354598618909,
           -0.0475195571030679,
           0.09253020875869616,
           -0.05398783294192139,
           -0.07335387414486196
          ],
          [
           0.2707537345819647,
           0.07540017495531803,
           1,
           0.9045650209832875,
           0.7797394918127888,
           0.25821896431716085,
           -0.151529889139295,
           0.009601037883892032,
           -0.11806230205077402,
           0.10326922977247377,
           0.0024596680937147525,
           -0.004100224187444558,
           -0.06244820847858667,
           -0.0428837815234647,
           0.7572299587138585,
           0.22426229874358794,
           0.0811691134517407,
           -0.4396262774305775,
           0.06808209510142543,
           0.09177070547355146,
           0.4394168015496083,
           0.20119377058404825,
           0.34317816939526996,
           0.40442705826102193,
           0.056030052639870466,
           0.15321096955569571,
           0.02769505239121836,
           -0.011245654258039627,
           -0.010115646774649881,
           0.08064228409396723,
           0.08362812023185225,
           0.022510196720555344,
           0.006249919120348111,
           -0.04588542353496648,
           0.12570870185969207,
           0.2042408497084701,
           -0.08613204488336779,
           -0.028481596627910374
          ],
          [
           0.26164028789548405,
           0.04890585645467957,
           0.9045650209832875,
           1,
           0.5209538109983849,
           0.24738499595907248,
           -0.08476465344310247,
           0.023384282239932244,
           -0.10060901907484103,
           0.11223337858330829,
           -0.026888419502173366,
           0.0035490290271808353,
           -0.045776502711886595,
           -0.022314153302024072,
           0.8316823491644747,
           0.2298392945796584,
           0.10152165530897751,
           -0.41471516679366754,
           0.02444290025497249,
           0.11120972495581256,
           0.41503395418690603,
           0.19594968274054952,
           0.36711113546413066,
           0.3429468213579586,
           0.06358571340951796,
           0.13322916963264658,
           0.011900588973414674,
           -0.049387741105989466,
           0.00824473969131644,
           0.06597970983271252,
           0.08802530054822734,
           0.010319292993437975,
           0.003844397373154018,
           -0.05417386692072243,
           0.1273281858613289,
           0.12581359170401998,
           -0.09906785081468347,
           -0.014907459316901678
          ],
          [
           0.25270394589217277,
           0.12717689481828875,
           0.7797394918127888,
           0.5209538109983849,
           1,
           0.22330886198421976,
           -0.22918869213680465,
           0.010108128939675519,
           -0.20108196440360676,
           0.07427511533084936,
           0.033439361180562455,
           -0.01745679811674319,
           -0.07952018282952585,
           -0.06557615914339716,
           0.4680320605227413,
           0.0532631684622307,
           0.02496100601136455,
           -0.475679889308696,
           0.1340162111099574,
           0.06868751551330499,
           0.48845197723845907,
           0.2285687848868614,
           0.31160078997227075,
           0.49043335332861804,
           0.03743220333775114,
           0.10837536457614314,
           0.06410299541594057,
           0.06482933457631895,
           -0.027884804795079904,
           0.0680012083060685,
           0.15854218031031506,
           0.02910557138742603,
           0.02053395137663017,
           -0.03540125481125438,
           0.1543679781676236,
           0.18880521959436933,
           -0.06872728527400315,
           -0.05023868806097176
          ],
          [
           0.2409614437335593,
           0.14632176735939642,
           0.25821896431716085,
           0.24738499595907248,
           0.22330886198421976,
           1,
           -0.03861414678509375,
           -0.0543358460413076,
           -0.06398277183905418,
           0.016599579491025584,
           -0.01501345305380917,
           -0.0006777412363290116,
           -0.021975943147472598,
           -0.03711150933951768,
           0.1952078269252704,
           0.025565079952426732,
           0.025899424986693675,
           -0.20045923950646863,
           -0.049448209539050436,
           0.02048850801290515,
           0.20284339114045719,
           0.06918377669009504,
           0.1485995562266241,
           0.17727509105519618,
           0.011518744909772083,
           -0.0025486736748486895,
           -0.030851932452164083,
           -0.020112290284298222,
           -0.013993408755040971,
           -0.052856678163112764,
           -0.07105071102125567,
           0.042596535358751034,
           -0.023060595291916654,
           0.004882823374690474,
           0.17184905789959812,
           0.08723654550829597,
           -0.07264212827526595,
           -0.013054551612800735
          ],
          [
           -0.012043499244902691,
           -0.02165761993978951,
           -0.151529889139295,
           -0.08476465344310247,
           -0.22918869213680465,
           -0.03861414678509375,
           1,
           0.01513662342155809,
           -0.02919945431958431,
           -0.12678031162008047,
           0.11038667895195761,
           -0.06434668951541064,
           -0.09545423511773314,
           0.032817192947620824,
           -0.07051519020131529,
           -0.010199216204342124,
           0.03805254088881697,
           0.19559785032323046,
           -0.1537120671662329,
           0.06454261353910976,
           -0.0185323331569406,
           0.007308606727480383,
           -0.10688488115755987,
           -0.09870483744128485,
           0.05277305050894529,
           -0.01165944660705733,
           0.02979529058877386,
           -0.03196754660215624,
           0.014827648139919975,
           0.022268580136727823,
           -0.20017077880558842,
           0.05277305050894508,
           -0.010092116535023916,
           0.025603351070836177,
           0.0005318186652876907,
           0.0012770933244885337,
           -0.020586610803907855,
           0.03433055821498717
          ],
          [
           0.09799067454506781,
           0.028294202316429314,
           0.009601037883892032,
           0.023384282239932244,
           0.010108128939675519,
           -0.0543358460413076,
           0.01513662342155809,
           1,
           -0.10627568260048201,
           0.022017548774855445,
           -0.011078234618452608,
           -0.10362973056179588,
           -0.03211538204720406,
           -0.01399571849684043,
           0.01359561959565113,
           0.046543652431515474,
           -0.00415520063362964,
           0.019706207583205647,
           -0.05825451845293744,
           0.02344774048897762,
           0.04754319103663844,
           0.010862725990446794,
           -0.05583160752674073,
           0.10058499483680891,
           0.0028614542038087037,
           0.004050924861053088,
           0.0070458575763151675,
           0.02090763134657173,
           0.08024820013924014,
           0.00286145420380883,
           0.1202631483506938,
           0.14377181547887544,
           -0.03486453581024588,
           0.02436676119620644,
           -0.04026816131166632,
           -0.028111442461938665,
           -0.019125712386460412,
           0.019728223356384567
          ],
          [
           -0.4813383219983793,
           -0.4223237571447254,
           -0.11806230205077402,
           -0.10060901907484103,
           -0.20108196440360676,
           -0.06398277183905418,
           -0.02919945431958431,
           -0.10627568260048201,
           1,
           0.05059784109112037,
           -0.041114501334065454,
           -0.021721725566968313,
           0.02035590630414627,
           0.00006788289762775763,
           -0.09795219064593225,
           0.00036831125119387946,
           -0.018551987890563865,
           0.16925569415009722,
           0.025536971935248017,
           -0.060543115894505166,
           -0.2883947855373509,
           -0.25916188871645435,
           -0.20112792807599023,
           -0.2596013894511813,
           0.0025005500252136188,
           0.0035399973377034685,
           -0.05972475022369159,
           -0.03265320982040584,
           0.10142271870960778,
           0.0025005500252134167,
           -0.1394402896206586,
           -0.07776710578413705,
           0.0030641304746104555,
           0.029382476416206303,
           -0.046809800320111256,
           -0.02387200168368663,
           0.01683568887625245,
           0.035757142707799595
          ],
          [
           -0.006460917261078899,
           -0.039960958293804034,
           0.10326922977247377,
           0.11223337858330829,
           0.07427511533084936,
           0.016599579491025584,
           -0.12678031162008047,
           0.022017548774855445,
           0.05059784109112037,
           1,
           -0.766115481612898,
           -0.11763699986156842,
           -0.11466250052440896,
           -0.01248408082588946,
           0.07616603791704281,
           -0.007100009018973936,
           -0.008807292677007014,
           -0.044075272181865625,
           0.008789614531091514,
           0.004666126964429824,
           0.11545307361394155,
           -0.02070878379379753,
           0.0012453038103413265,
           0.061111323989950526,
           -0.0025145578036749995,
           -0.0035598279741478334,
           -0.006191682581717327,
           0.005454730231722348,
           0.015580889757588945,
           0.043174483044229724,
           0.09358458839266333,
           -0.0025145578036749323,
           -0.021743480482605534,
           0.010488662613503072,
           0.019773140726336833,
           -0.058827842572218535,
           0.05807487023092238,
           0.007164622643404528
          ],
          [
           0.04206039794663489,
           0.024164448995172713,
           0.0024596680937147525,
           -0.026888419502173366,
           0.033439361180562455,
           -0.01501345305380917,
           0.11038667895195761,
           -0.011078234618452608,
           -0.041114501334065454,
           -0.766115481612898,
           1,
           -0.11686526256903551,
           -0.17187750136149188,
           0.01731020305999664,
           -0.015620209056577778,
           0.006385803994454284,
           0.008222481314885228,
           0.010700216653278097,
           0.0018615132904398113,
           0.0038816462154357494,
           -0.061074643154667305,
           -0.007983405324215716,
           0.05339890064641443,
           -0.016784971218753185,
           -0.002324267073731239,
           0.029043132070887843,
           0.01302302510663965,
           0.02746961782529837,
           -0.021506185169702492,
           -0.002324267073731236,
           -0.08748548159077214,
           0.04335469602837431,
           0.015809952340970504,
           -0.01814829472268134,
           -0.02257950623219537,
           0.08068100741933903,
           -0.05646524295763284,
           -0.00964645558350233
          ],
          [
           0.02003687831550041,
           0.03535459231469409,
           -0.004100224187444558,
           0.0035490290271808353,
           -0.01745679811674319,
           -0.0006777412363290116,
           -0.06434668951541064,
           -0.10362973056179588,
           -0.021721725566968313,
           -0.11763699986156842,
           -0.11686526256903551,
           1,
           0.33358789386299753,
           0.038661084058445955,
           0.01809436022405096,
           -0.0012049042827897293,
           0.0031926268326971717,
           -0.0045973058234045384,
           0.011338777207274112,
           -0.03193566436299566,
           0.009912651186628858,
           0.018155624529383196,
           0.05704087313482292,
           -0.012275049267795058,
           -0.00818037305388669,
           -0.01158085162871678,
           -0.020142815279758787,
           -0.017416740167884262,
           -0.010024086747057792,
           -0.008180373053886686,
           0.008017662096983628,
           -0.008180373053886691,
           -0.010024086747057804,
           0.15338177365674358,
           0.010502529600407349,
           0.028157964450783775,
           0.026773429280772282,
           0.023307989153288383
          ],
          [
           -0.061477106435342266,
           -0.01365365903582537,
           -0.06244820847858667,
           -0.045776502711886595,
           -0.07952018282952585,
           -0.021975943147472598,
           -0.09545423511773314,
           -0.03211538204720406,
           0.02035590630414627,
           -0.11466250052440896,
           -0.17187750136149188,
           0.33358789386299753,
           1,
           -0.013071737899048204,
           -0.042989584135464054,
           -0.001245755723726848,
           0.011387595125669867,
           0.04255749061984555,
           0.043060090906109204,
           -0.028772061421966342,
           -0.059422533488514034,
           0.021386433656015592,
           -0.006801556666744527,
           -0.04052724787005852,
           -0.008457722907670478,
           -0.011973492341402894,
           0.031401316235071544,
           -0.018007242618950123,
           -0.01036394643014301,
           -0.008457722907670473,
           0.028147167043388037,
           -0.008457722907670473,
           -0.010363946430143014,
           -0.013393756412062956,
           -0.022656908562660897,
           0.02588572155808201,
           0.027681163762732768,
           0.02409823030012558
          ],
          [
           0.07959551216873818,
           0.06339614380726454,
           -0.0428837815234647,
           -0.022314153302024072,
           -0.06557615914339716,
           -0.03711150933951768,
           0.032817192947620824,
           -0.01399571849684043,
           0.00006788289762775763,
           -0.01248408082588946,
           0.01731020305999664,
           0.038661084058445955,
           -0.013071737899048204,
           1,
           -0.0024394592040198246,
           0.0034724089891574176,
           0.010591291901621827,
           0.026824155446883085,
           -0.07638021488631269,
           0.015086642541991246,
           -0.013872381974395937,
           0.005741192069302964,
           -0.07837562335377078,
           -0.022217900013186243,
           -0.030008028856368784,
           -0.05706983696218561,
           -0.060357569805351126,
           -0.09606701066872672,
           0.049091359267147375,
           0.015331444781559476,
           0.0286675146054603,
           0.048305607427325634,
           0.022154049310302456,
           -0.04099380470336489,
           -0.05306270705461762,
           0.006329411408714943,
           0.012775656664114336,
           -0.026067256349676396
          ],
          [
           0.2065359019362322,
           0.03668675749721244,
           0.7572299587138585,
           0.8316823491644747,
           0.4680320605227413,
           0.1952078269252704,
           -0.07051519020131529,
           0.01359561959565113,
           -0.09795219064593225,
           0.07616603791704281,
           -0.015620209056577778,
           0.01809436022405096,
           -0.042989584135464054,
           -0.0024394592040198246,
           1,
           0.2690152210025362,
           0.07404981122122323,
           -0.3842847710638555,
           0.04833280201404896,
           0.11016655170011702,
           0.40958629752705183,
           0.20567720955750912,
           0.30247553089091017,
           0.3181728976075116,
           0.06533014556140876,
           0.11397959908397336,
           0.036256661830859786,
           -0.03329655597419163,
           -0.0191636070956042,
           0.06533014556140866,
           0.12607439759277314,
           0.004603378982608971,
           0.005640900475722219,
           -0.03117709977171773,
           0.13302790057649738,
           0.06999920952051635,
           -0.08131693189019563,
           -0.023930349160289886
          ],
          [
           -0.045414152985861975,
           -0.05305585822410217,
           0.22426229874358794,
           0.2298392945796584,
           0.0532631684622307,
           0.025565079952426732,
           -0.010199216204342124,
           0.046543652431515474,
           0.00036831125119387946,
           -0.007100009018973936,
           0.006385803994454284,
           -0.0012049042827897293,
           -0.001245755723726848,
           0.0034724089891574176,
           0.2690152210025362,
           1,
           -0.021806878869058296,
           -0.004887735625654475,
           0.037855745479617994,
           0.0012657508807125115,
           -0.02524952994785562,
           0.0021969217604241344,
           -0.008432465807762251,
           -0.05220961580280167,
           -0.00030653921900361346,
           -0.0004339637312721489,
           -0.0007548021127783523,
           0.06918081519132609,
           -0.00037562782313534126,
           -0.00030653921900358717,
           0.047801672060325075,
           -0.00030653921900358365,
           -0.0003756278231354133,
           -0.0004854393641052813,
           -0.033618788726384886,
           -0.11309342284190901,
           0.04701026964435244,
           0.0534417232326417
          ],
          [
           0.028608327366801505,
           -0.008911847084215099,
           0.0811691134517407,
           0.10152165530897751,
           0.02496100601136455,
           0.025899424986693675,
           0.03805254088881697,
           -0.00415520063362964,
           -0.018551987890563865,
           -0.008807292677007014,
           0.008222481314885228,
           0.0031926268326971717,
           0.011387595125669867,
           0.010591291901621827,
           0.07404981122122323,
           -0.021806878869058296,
           1,
           -0.07094566875748784,
           0.027446674102241334,
           -0.05406614147214099,
           0.03308028180770908,
           0.03058391207982614,
           0.09038187580623164,
           0.04450935586630692,
           -0.018978954607554433,
           -0.026868268223270205,
           0.006237605418303319,
           -0.04040787857477905,
           -0.02325648061541748,
           -0.018978954607554478,
           -0.08033730035884915,
           -0.01897895460755447,
           -0.023256480615417473,
           -0.03005531131064201,
           0.03201478095348033,
           0.07711035409011276,
           -0.12697674698846426,
           -0.0700437940029093
          ],
          [
           -0.2560020733174704,
           -0.10007941076426088,
           -0.4396262774305775,
           -0.41471516679366754,
           -0.475679889308696,
           -0.20045923950646863,
           0.19559785032323046,
           0.019706207583205647,
           0.16925569415009722,
           -0.044075272181865625,
           0.010700216653278097,
           -0.0045973058234045384,
           0.04255749061984555,
           0.026824155446883085,
           -0.3842847710638555,
           -0.004887735625654475,
           -0.07094566875748784,
           1,
           -0.014646626207517497,
           -0.16887814488787242,
           -0.4074762910785518,
           -0.18607166903826902,
           -0.3337958543938911,
           -0.4786496685390877,
           -0.03318396438433358,
           -0.0469781225692394,
           0.04370146685719008,
           -0.008686672740888085,
           -0.004999555614806032,
           -0.033183964384333735,
           -0.1641713987434854,
           0.09778389505055751,
           -0.04066305233375575,
           0.002756749824066439,
           -0.22039310815531002,
           -0.07174546768149848,
           0.0813919144596339,
           0.01680775186417494
          ],
          [
           -0.09093224191780543,
           -0.10237758041088227,
           0.06808209510142543,
           0.02444290025497249,
           0.1340162111099574,
           -0.049448209539050436,
           -0.1537120671662329,
           -0.05825451845293744,
           0.025536971935248017,
           0.008789614531091514,
           0.0018615132904398113,
           0.011338777207274112,
           0.043060090906109204,
           -0.07638021488631269,
           0.04833280201404896,
           0.037855745479617994,
           0.027446674102241334,
           -0.014646626207517497,
           1,
           -0.06451635627095749,
           -0.0002656691384159467,
           0.03838710751630031,
           0.025835095466805152,
           -0.024370814521239147,
           -0.024606584300641617,
           -0.02059655333484616,
           -0.01105838134667853,
           0.05230065490198948,
           -0.013719634401070735,
           -0.024606584300641568,
           0.07747641088391995,
           -0.024606584300641533,
           -0.013719634401070765,
           -0.026225189019507145,
           -0.0008561139842531564,
           -0.01960788562418965,
           0.030373810770567045,
           -0.04451837850920037
          ],
          [
           0.07623141051816687,
           0.027841917217660272,
           0.09177070547355146,
           0.11120972495581256,
           0.06868751551330499,
           0.02048850801290515,
           0.06454261353910976,
           0.02344774048897762,
           -0.060543115894505166,
           0.004666126964429824,
           0.0038816462154357494,
           -0.03193566436299566,
           -0.028772061421966342,
           0.015086642541991246,
           0.11016655170011702,
           0.0012657508807125115,
           -0.05406614147214099,
           -0.16887814488787242,
           -0.06451635627095749,
           1,
           0.11766716640503841,
           0.01571311240424492,
           0.037288958873379394,
           0.1568801282771112,
           0.008593474639776432,
           0.012165674367516269,
           0.021160009591257398,
           0.01829627010337558,
           0.010530294239677915,
           0.008593474639776331,
           0.04171274935135427,
           -0.1167931326042326,
           0.010530294239677898,
           -0.06581678897771097,
           0.03849941341549833,
           0.022879493571283094,
           0.010957972877969947,
           -0.02448502193891977
          ],
          [
           0.3016706272472584,
           0.2391294383027644,
           0.4394168015496083,
           0.41503395418690603,
           0.48845197723845907,
           0.20284339114045719,
           -0.0185323331569406,
           0.04754319103663844,
           -0.2883947855373509,
           0.11545307361394155,
           -0.061074643154667305,
           0.009912651186628858,
           -0.059422533488514034,
           -0.013872381974395937,
           0.40958629752705183,
           -0.02524952994785562,
           0.03308028180770908,
           -0.4074762910785518,
           -0.0002656691384159467,
           0.11766716640503841,
           1,
           0.2309469502107578,
           0.3274662539156662,
           0.49892620718390196,
           0.029282912961131363,
           0.04145545295130096,
           0.030920183610503128,
           -0.056355387028420766,
           -0.005107867875321841,
           0.02928291296113135,
           0.17046188297575657,
           0.029282912961131332,
           0.035882771824135754,
           -0.017195888455247225,
           0.23330162922273337,
           0.07796359993215594,
           -0.0801993114279149,
           -0.06556367809549171
          ],
          [
           0.11434696407039537,
           0.10727952315312474,
           0.20119377058404825,
           0.19594968274054952,
           0.2285687848868614,
           0.06918377669009504,
           0.007308606727480383,
           0.010862725990446794,
           -0.25916188871645435,
           -0.02070878379379753,
           -0.007983405324215716,
           0.018155624529383196,
           0.021386433656015592,
           0.005741192069302964,
           0.20567720955750912,
           0.0021969217604241344,
           0.03058391207982614,
           -0.18607166903826902,
           0.03838710751630031,
           0.01571311240424492,
           0.2309469502107578,
           1,
           0.1434113438746336,
           0.15577068284171905,
           0.01491540849108937,
           0.021115556904209822,
           -0.026656494529272896,
           -0.07785397903072197,
           -0.04480832991047485,
           0.01491540849108943,
           0.129224830694462,
           0.014915408491089388,
           0.01827708193716741,
           -0.07421323422742174,
           0.07999521892673334,
           0.010339546091912266,
           -0.024745657363518796,
           -0.014994197328021694
          ],
          [
           0.22045187307423778,
           0.07693519172645864,
           0.34317816939526996,
           0.36711113546413066,
           0.31160078997227075,
           0.1485995562266241,
           -0.10688488115755987,
           -0.05583160752674073,
           -0.20112792807599023,
           0.0012453038103413265,
           0.05339890064641443,
           0.05704087313482292,
           -0.006801556666744527,
           -0.07837562335377078,
           0.30247553089091017,
           -0.008432465807762251,
           0.09038187580623164,
           -0.3337958543938911,
           0.025835095466805152,
           0.037288958873379394,
           0.3274662539156662,
           0.1434113438746336,
           1,
           0.31137119613237246,
           0.03635226350059894,
           0.05146344392795519,
           -0.0065218892952887105,
           -0.07760413930791904,
           -0.03192025531254855,
           0.03635226350059894,
           0.07299877238555826,
           0.03635226350059898,
           0.04454543092124317,
           -0.061015818982551075,
           0.19213379080185183,
           0.09678522529336239,
           -0.0898006846348421,
           -0.05357130476477227
          ],
          [
           0.41846997671871544,
           0.2730881687917264,
           0.40442705826102193,
           0.3429468213579586,
           0.49043335332861804,
           0.17727509105519618,
           -0.09870483744128485,
           0.10058499483680891,
           -0.2596013894511813,
           0.061111323989950526,
           -0.016784971218753185,
           -0.012275049267795058,
           -0.04052724787005852,
           -0.022217900013186243,
           0.3181728976075116,
           -0.05220961580280167,
           0.04450935586630692,
           -0.4786496685390877,
           -0.024370814521239147,
           0.1568801282771112,
           0.49892620718390196,
           0.15577068284171905,
           0.31137119613237246,
           1,
           0.03233346328945956,
           0.04577407882637859,
           0.00024725404995112367,
           0.00021379134364522454,
           0.00012304615868476368,
           0.032333463289459595,
           0.18709549871814313,
           0.03233346328945957,
           0.039620863096501265,
           -0.010049914692232936,
           0.3277519389771389,
           0.08608546559785582,
           -0.09075301443211893,
           -0.07490631437064228
          ],
          [
           -0.0030433279027376405,
           -0.02722908261896134,
           0.056030052639870466,
           0.06358571340951796,
           0.03743220333775114,
           0.011518744909772083,
           0.05277305050894529,
           0.0028614542038087037,
           0.0025005500252136188,
           -0.0025145578036749995,
           -0.002324267073731239,
           -0.00818037305388669,
           -0.008457722907670478,
           -0.030008028856368784,
           0.06533014556140876,
           -0.00030653921900361346,
           -0.018978954607554433,
           -0.03318396438433358,
           -0.024606584300641617,
           0.008593474639776432,
           0.029282912961131363,
           0.01491540849108937,
           0.03635226350059894,
           0.03233346328945956,
           1,
           0.351712157500043,
           -0.005124525617997017,
           -0.004430985933828684,
           -0.0025502239194906307,
           0.4989594172736733,
           -0.017505490718666347,
           -0.00208116545265349,
           -0.0025502239194906315,
           -0.0032957597961457805,
           -0.030316291951421086,
           -0.005540949800952866,
           -0.1493646548902225,
           0.005929776243345798
          ],
          [
           -0.0043084011776690955,
           -0.03854787107128785,
           0.15321096955569571,
           0.13322916963264658,
           0.10837536457614314,
           -0.0025486736748486895,
           -0.01165944660705733,
           0.004050924861053088,
           0.0035399973377034685,
           -0.0035598279741478334,
           0.029043132070887843,
           -0.01158085162871678,
           -0.011973492341402894,
           -0.05706983696218561,
           0.11397959908397336,
           -0.0004339637312721489,
           -0.026868268223270205,
           -0.0469781225692394,
           -0.02059655333484616,
           0.012165674367516269,
           0.04145545295130096,
           0.021115556904209822,
           0.05146344392795519,
           0.04577407882637859,
           0.351712157500043,
           1,
           0.1382932278110041,
           -0.006272891264319577,
           -0.003610320047396048,
           0.3517121575000428,
           -0.05936978011419836,
           -0.0029462798534035076,
           -0.0036103200473960487,
           -0.004665765846084459,
           0.027133154576961176,
           -0.007844253202672066,
           -0.21145367032329904,
           0.008394709925001931
          ],
          [
           -0.0325507223256008,
           0.01991268208793916,
           0.02769505239121836,
           0.011900588973414674,
           0.06410299541594057,
           -0.030851932452164083,
           0.02979529058877386,
           0.0070458575763151675,
           -0.05972475022369159,
           -0.006191682581717327,
           0.01302302510663965,
           -0.020142815279758787,
           0.031401316235071544,
           -0.060357569805351126,
           0.036256661830859786,
           -0.0007548021127783523,
           0.006237605418303319,
           0.04370146685719008,
           -0.01105838134667853,
           0.021160009591257398,
           0.030920183610503128,
           -0.026656494529272896,
           -0.0065218892952887105,
           0.00024725404995112367,
           -0.005124525617997017,
           0.1382932278110041,
           1,
           -0.010910569797292402,
           0.16169724065075863,
           0.20049706480413323,
           -0.0029985652018546514,
           -0.005124525617997015,
           -0.006279504491291603,
           -0.008115263245687595,
           -0.013727797614257749,
           -0.013643672187050322,
           -0.04732096805211101,
           -0.058632513972844545
          ],
          [
           0.041666882296338734,
           0.020798270963686596,
           -0.011245654258039627,
           -0.049387741105989466,
           0.06482933457631895,
           -0.020112290284298222,
           -0.03196754660215624,
           0.02090763134657173,
           -0.03265320982040584,
           0.005454730231722348,
           0.02746961782529837,
           -0.017416740167884262,
           -0.018007242618950123,
           -0.09606701066872672,
           -0.03329655597419163,
           0.06918081519132609,
           -0.04040787857477905,
           -0.008686672740888085,
           0.05230065490198948,
           0.01829627010337558,
           -0.056355387028420766,
           -0.07785397903072197,
           -0.07760413930791904,
           0.00021379134364522454,
           -0.004430985933828684,
           -0.006272891264319577,
           -0.010910569797292402,
           1,
           -0.005429653034538369,
           -0.0044309859338286794,
           0.020525916544032904,
           -0.004430985933828683,
           -0.00542965303453837,
           -0.007016965075689003,
           -0.04113444835031462,
           -0.011797173836789056,
           0.014502112282897998,
           0.012625019837571519
          ],
          [
           0.0045838587755865235,
           -0.012758613078382513,
           -0.010115646774649881,
           0.00824473969131644,
           -0.027884804795079904,
           -0.013993408755040971,
           0.014827648139919975,
           0.08024820013924014,
           0.10142271870960778,
           0.015580889757588945,
           -0.021506185169702492,
           -0.010024086747057792,
           -0.01036394643014301,
           0.049091359267147375,
           -0.0191636070956042,
           -0.00037562782313534126,
           -0.02325648061541748,
           -0.004999555614806032,
           -0.013719634401070735,
           0.010530294239677915,
           -0.005107867875321841,
           -0.04480832991047485,
           -0.03192025531254855,
           0.00012304615868476368,
           -0.0025502239194906307,
           -0.003610320047396048,
           0.16169724065075863,
           -0.005429653034538369,
           1,
           -0.002550223919490628,
           -0.041409609063731506,
           -0.0025502239194906276,
           0.3312499999999991,
           -0.004038566685945244,
           0.0032741541278966005,
           0.14889025107228657,
           0.008346592424189765,
           0.007266244590850534
          ],
          [
           -0.0030433279027375997,
           -0.007048514452982262,
           0.08064228409396723,
           0.06597970983271252,
           0.0680012083060685,
           -0.052856678163112764,
           0.022268580136727823,
           0.00286145420380883,
           0.0025005500252134167,
           0.043174483044229724,
           -0.002324267073731236,
           -0.008180373053886686,
           -0.008457722907670473,
           0.015331444781559476,
           0.06533014556140866,
           -0.00030653921900358717,
           -0.018978954607554478,
           -0.033183964384333735,
           -0.024606584300641568,
           0.008593474639776331,
           0.02928291296113135,
           0.01491540849108943,
           0.03635226350059894,
           0.032333463289459595,
           0.4989594172736733,
           0.3517121575000428,
           0.20049706480413323,
           -0.0044309859338286794,
           -0.002550223919490628,
           1,
           -0.017505490718666198,
           -0.0020811654526534883,
           -0.00255022391949063,
           -0.0032957597961457766,
           0.019166062538779755,
           -0.005540949800952865,
           0.006811417486850649,
           0.0059297762433460815
          ],
          [
           0.06471069590618564,
           0.08209354281676957,
           0.08362812023185225,
           0.08802530054822734,
           0.15854218031031506,
           -0.07105071102125567,
           -0.20017077880558842,
           0.1202631483506938,
           -0.1394402896206586,
           0.09358458839266333,
           -0.08748548159077214,
           0.008017662096983628,
           0.028147167043388037,
           0.0286675146054603,
           0.12607439759277314,
           0.047801672060325075,
           -0.08033730035884915,
           -0.1641713987434854,
           0.07747641088391995,
           0.04171274935135427,
           0.17046188297575657,
           0.129224830694462,
           0.07299877238555826,
           0.18709549871814313,
           -0.017505490718666347,
           -0.05936978011419836,
           -0.0029985652018546514,
           0.020525916544032904,
           -0.041409609063731506,
           -0.017505490718666198,
           1,
           -0.06636864307250831,
           -0.0014922381644588483,
           -0.04319797593022018,
           -0.15124988412978488,
           -0.15811669096336747,
           0.17152457176072108,
           0.04987765045749412
          ],
          [
           0.11907020419460919,
           0.04340290596196531,
           0.022510196720555344,
           0.010319292993437975,
           0.02910557138742603,
           0.042596535358751034,
           0.05277305050894508,
           0.14377181547887544,
           -0.07776710578413705,
           -0.0025145578036749323,
           0.04335469602837431,
           -0.008180373053886691,
           -0.008457722907670473,
           0.048305607427325634,
           0.004603378982608971,
           -0.00030653921900358365,
           -0.01897895460755447,
           0.09778389505055751,
           -0.024606584300641533,
           -0.1167931326042326,
           0.029282912961131332,
           0.014915408491089388,
           0.03635226350059898,
           0.03233346328945957,
           -0.00208116545265349,
           -0.0029462798534035076,
           -0.005124525617997015,
           -0.004430985933828683,
           -0.0025502239194906276,
           -0.0020811654526534883,
           -0.06636864307250831,
           1,
           -0.002550223919490629,
           -0.0032957597961457766,
           -0.030316291951421076,
           -0.0055409498009528655,
           -0.1493646548902226,
           0.005929776243346003
          ],
          [
           0.037836258028993486,
           0.06142813778302487,
           0.006249919120348111,
           0.003844397373154018,
           0.02053395137663017,
           -0.023060595291916654,
           -0.010092116535023916,
           -0.03486453581024588,
           0.0030641304746104555,
           -0.021743480482605534,
           0.015809952340970504,
           -0.010024086747057804,
           -0.010363946430143014,
           0.022154049310302456,
           0.005640900475722219,
           -0.0003756278231354133,
           -0.023256480615417473,
           -0.04066305233375575,
           -0.013719634401070765,
           0.010530294239677898,
           0.035882771824135754,
           0.01827708193716741,
           0.04454543092124317,
           0.039620863096501265,
           -0.0025502239194906315,
           -0.0036103200473960487,
           -0.006279504491291603,
           -0.00542965303453837,
           0.3312499999999991,
           -0.00255022391949063,
           -0.0014922381644588483,
           -0.002550223919490629,
           1,
           -0.0040385666859452446,
           0.04369736470692774,
           0.14889025107228662,
           0.008346592424189767,
           -0.1385127875130895
          ],
          [
           -0.02415750494484185,
           0.03038354598618909,
           -0.04588542353496648,
           -0.05417386692072243,
           -0.03540125481125438,
           0.004882823374690474,
           0.025603351070836177,
           0.02436676119620644,
           0.029382476416206303,
           0.010488662613503072,
           -0.01814829472268134,
           0.15338177365674358,
           -0.013393756412062956,
           -0.04099380470336489,
           -0.03117709977171773,
           -0.0004854393641052813,
           -0.03005531131064201,
           0.002756749824066439,
           -0.026225189019507145,
           -0.06581678897771097,
           -0.017195888455247225,
           -0.07421323422742174,
           -0.061015818982551075,
           -0.010049914692232936,
           -0.0032957597961457805,
           -0.004665765846084459,
           -0.008115263245687595,
           -0.007016965075689003,
           -0.004038566685945244,
           -0.0032957597961457766,
           -0.04319797593022018,
           -0.0032957597961457766,
           -0.0040385666859452446,
           1,
           0.04602379361674007,
           -0.008774717821285579,
           0.010786646433758656,
           0.009390468267692336
          ],
          [
           0.05918146362890548,
           -0.0475195571030679,
           0.12570870185969207,
           0.1273281858613289,
           0.1543679781676236,
           0.17184905789959812,
           0.0005318186652876907,
           -0.04026816131166632,
           -0.046809800320111256,
           0.019773140726336833,
           -0.02257950623219537,
           0.010502529600407349,
           -0.022656908562660897,
           -0.05306270705461762,
           0.13302790057649738,
           -0.033618788726384886,
           0.03201478095348033,
           -0.22039310815531002,
           -0.0008561139842531564,
           0.03849941341549833,
           0.23330162922273337,
           0.07999521892673334,
           0.19213379080185183,
           0.3277519389771389,
           -0.030316291951421086,
           0.027133154576961176,
           -0.013727797614257749,
           -0.04113444835031462,
           0.0032741541278966005,
           0.019166062538779755,
           -0.15124988412978488,
           -0.030316291951421076,
           0.04369736470692774,
           0.04602379361674007,
           1,
           -0.043074002299364055,
           -0.08586406976816263,
           -0.0017385588065667087
          ],
          [
           0.11962240566992663,
           0.09253020875869616,
           0.2042408497084701,
           0.12581359170401998,
           0.18880521959436933,
           0.08723654550829597,
           0.0012770933244885337,
           -0.028111442461938665,
           -0.02387200168368663,
           -0.058827842572218535,
           0.08068100741933903,
           0.028157964450783775,
           0.02588572155808201,
           0.006329411408714943,
           0.06999920952051635,
           -0.11309342284190901,
           0.07711035409011276,
           -0.07174546768149848,
           -0.01960788562418965,
           0.022879493571283094,
           0.07796359993215594,
           0.010339546091912266,
           0.09678522529336239,
           0.08608546559785582,
           -0.005540949800952866,
           -0.007844253202672066,
           -0.013643672187050322,
           -0.011797173836789056,
           0.14889025107228657,
           -0.005540949800952865,
           -0.15811669096336747,
           -0.0055409498009528655,
           0.14889025107228662,
           -0.008774717821285579,
           -0.043074002299364055,
           1,
           -0.10066718666539538,
           -0.052084959825209484
          ],
          [
           -0.1074010918499978,
           -0.05398783294192139,
           -0.08613204488336779,
           -0.09906785081468347,
           -0.06872728527400315,
           -0.07264212827526595,
           -0.020586610803907855,
           -0.019125712386460412,
           0.01683568887625245,
           0.05807487023092238,
           -0.05646524295763284,
           0.026773429280772282,
           0.027681163762732768,
           0.012775656664114336,
           -0.08131693189019563,
           0.04701026964435244,
           -0.12697674698846426,
           0.0813919144596339,
           0.030373810770567045,
           0.010957972877969947,
           -0.0801993114279149,
           -0.024745657363518796,
           -0.0898006846348421,
           -0.09075301443211893,
           -0.1493646548902225,
           -0.21145367032329904,
           -0.04732096805211101,
           0.014502112282897998,
           0.008346592424189765,
           0.006811417486850649,
           0.17152457176072108,
           -0.1493646548902226,
           0.008346592424189767,
           0.010786646433758656,
           -0.08586406976816263,
           -0.10066718666539538,
           1,
           0.20308543933612389
          ],
          [
           -0.06743909604951528,
           -0.07335387414486196,
           -0.028481596627910374,
           -0.014907459316901678,
           -0.05023868806097176,
           -0.013054551612800735,
           0.03433055821498717,
           0.019728223356384567,
           0.035757142707799595,
           0.007164622643404528,
           -0.00964645558350233,
           0.023307989153288383,
           0.02409823030012558,
           -0.026067256349676396,
           -0.023930349160289886,
           0.0534417232326417,
           -0.0700437940029093,
           0.01680775186417494,
           -0.04451837850920037,
           -0.02448502193891977,
           -0.06556367809549171,
           -0.014994197328021694,
           -0.05357130476477227,
           -0.07490631437064228,
           0.005929776243345798,
           0.008394709925001931,
           -0.058632513972844545,
           0.012625019837571519,
           0.007266244590850534,
           0.0059297762433460815,
           0.04987765045749412,
           0.005929776243346003,
           -0.1385127875130895,
           0.009390468267692336,
           -0.0017385588065667087,
           -0.052084959825209484,
           0.20308543933612389,
           1
          ]
         ]
        }
       ],
       "layout": {
        "coloraxis": {
         "cmax": 1,
         "cmin": -1,
         "colorscale": [
          [
           0,
           "rgb(103,0,31)"
          ],
          [
           0.1,
           "rgb(178,24,43)"
          ],
          [
           0.2,
           "rgb(214,96,77)"
          ],
          [
           0.3,
           "rgb(244,165,130)"
          ],
          [
           0.4,
           "rgb(253,219,199)"
          ],
          [
           0.5,
           "rgb(247,247,247)"
          ],
          [
           0.6,
           "rgb(209,229,240)"
          ],
          [
           0.7,
           "rgb(146,197,222)"
          ],
          [
           0.8,
           "rgb(67,147,195)"
          ],
          [
           0.9,
           "rgb(33,102,172)"
          ],
          [
           1,
           "rgb(5,48,97)"
          ]
         ]
        },
        "height": 800,
        "margin": {
         "t": 60
        },
        "template": {
         "data": {
          "bar": [
           {
            "error_x": {
             "color": "#2a3f5f"
            },
            "error_y": {
             "color": "#2a3f5f"
            },
            "marker": {
             "line": {
              "color": "#E5ECF6",
              "width": 0.5
             },
             "pattern": {
              "fillmode": "overlay",
              "size": 10,
              "solidity": 0.2
             }
            },
            "type": "bar"
           }
          ],
          "barpolar": [
           {
            "marker": {
             "line": {
              "color": "#E5ECF6",
              "width": 0.5
             },
             "pattern": {
              "fillmode": "overlay",
              "size": 10,
              "solidity": 0.2
             }
            },
            "type": "barpolar"
           }
          ],
          "carpet": [
           {
            "aaxis": {
             "endlinecolor": "#2a3f5f",
             "gridcolor": "white",
             "linecolor": "white",
             "minorgridcolor": "white",
             "startlinecolor": "#2a3f5f"
            },
            "baxis": {
             "endlinecolor": "#2a3f5f",
             "gridcolor": "white",
             "linecolor": "white",
             "minorgridcolor": "white",
             "startlinecolor": "#2a3f5f"
            },
            "type": "carpet"
           }
          ],
          "choropleth": [
           {
            "colorbar": {
             "outlinewidth": 0,
             "ticks": ""
            },
            "type": "choropleth"
           }
          ],
          "contour": [
           {
            "colorbar": {
             "outlinewidth": 0,
             "ticks": ""
            },
            "colorscale": [
             [
              0,
              "#0d0887"
             ],
             [
              0.1111111111111111,
              "#46039f"
             ],
             [
              0.2222222222222222,
              "#7201a8"
             ],
             [
              0.3333333333333333,
              "#9c179e"
             ],
             [
              0.4444444444444444,
              "#bd3786"
             ],
             [
              0.5555555555555556,
              "#d8576b"
             ],
             [
              0.6666666666666666,
              "#ed7953"
             ],
             [
              0.7777777777777778,
              "#fb9f3a"
             ],
             [
              0.8888888888888888,
              "#fdca26"
             ],
             [
              1,
              "#f0f921"
             ]
            ],
            "type": "contour"
           }
          ],
          "contourcarpet": [
           {
            "colorbar": {
             "outlinewidth": 0,
             "ticks": ""
            },
            "type": "contourcarpet"
           }
          ],
          "heatmap": [
           {
            "colorbar": {
             "outlinewidth": 0,
             "ticks": ""
            },
            "colorscale": [
             [
              0,
              "#0d0887"
             ],
             [
              0.1111111111111111,
              "#46039f"
             ],
             [
              0.2222222222222222,
              "#7201a8"
             ],
             [
              0.3333333333333333,
              "#9c179e"
             ],
             [
              0.4444444444444444,
              "#bd3786"
             ],
             [
              0.5555555555555556,
              "#d8576b"
             ],
             [
              0.6666666666666666,
              "#ed7953"
             ],
             [
              0.7777777777777778,
              "#fb9f3a"
             ],
             [
              0.8888888888888888,
              "#fdca26"
             ],
             [
              1,
              "#f0f921"
             ]
            ],
            "type": "heatmap"
           }
          ],
          "heatmapgl": [
           {
            "colorbar": {
             "outlinewidth": 0,
             "ticks": ""
            },
            "colorscale": [
             [
              0,
              "#0d0887"
             ],
             [
              0.1111111111111111,
              "#46039f"
             ],
             [
              0.2222222222222222,
              "#7201a8"
             ],
             [
              0.3333333333333333,
              "#9c179e"
             ],
             [
              0.4444444444444444,
              "#bd3786"
             ],
             [
              0.5555555555555556,
              "#d8576b"
             ],
             [
              0.6666666666666666,
              "#ed7953"
             ],
             [
              0.7777777777777778,
              "#fb9f3a"
             ],
             [
              0.8888888888888888,
              "#fdca26"
             ],
             [
              1,
              "#f0f921"
             ]
            ],
            "type": "heatmapgl"
           }
          ],
          "histogram": [
           {
            "marker": {
             "pattern": {
              "fillmode": "overlay",
              "size": 10,
              "solidity": 0.2
             }
            },
            "type": "histogram"
           }
          ],
          "histogram2d": [
           {
            "colorbar": {
             "outlinewidth": 0,
             "ticks": ""
            },
            "colorscale": [
             [
              0,
              "#0d0887"
             ],
             [
              0.1111111111111111,
              "#46039f"
             ],
             [
              0.2222222222222222,
              "#7201a8"
             ],
             [
              0.3333333333333333,
              "#9c179e"
             ],
             [
              0.4444444444444444,
              "#bd3786"
             ],
             [
              0.5555555555555556,
              "#d8576b"
             ],
             [
              0.6666666666666666,
              "#ed7953"
             ],
             [
              0.7777777777777778,
              "#fb9f3a"
             ],
             [
              0.8888888888888888,
              "#fdca26"
             ],
             [
              1,
              "#f0f921"
             ]
            ],
            "type": "histogram2d"
           }
          ],
          "histogram2dcontour": [
           {
            "colorbar": {
             "outlinewidth": 0,
             "ticks": ""
            },
            "colorscale": [
             [
              0,
              "#0d0887"
             ],
             [
              0.1111111111111111,
              "#46039f"
             ],
             [
              0.2222222222222222,
              "#7201a8"
             ],
             [
              0.3333333333333333,
              "#9c179e"
             ],
             [
              0.4444444444444444,
              "#bd3786"
             ],
             [
              0.5555555555555556,
              "#d8576b"
             ],
             [
              0.6666666666666666,
              "#ed7953"
             ],
             [
              0.7777777777777778,
              "#fb9f3a"
             ],
             [
              0.8888888888888888,
              "#fdca26"
             ],
             [
              1,
              "#f0f921"
             ]
            ],
            "type": "histogram2dcontour"
           }
          ],
          "mesh3d": [
           {
            "colorbar": {
             "outlinewidth": 0,
             "ticks": ""
            },
            "type": "mesh3d"
           }
          ],
          "parcoords": [
           {
            "line": {
             "colorbar": {
              "outlinewidth": 0,
              "ticks": ""
             }
            },
            "type": "parcoords"
           }
          ],
          "pie": [
           {
            "automargin": true,
            "type": "pie"
           }
          ],
          "scatter": [
           {
            "fillpattern": {
             "fillmode": "overlay",
             "size": 10,
             "solidity": 0.2
            },
            "type": "scatter"
           }
          ],
          "scatter3d": [
           {
            "line": {
             "colorbar": {
              "outlinewidth": 0,
              "ticks": ""
             }
            },
            "marker": {
             "colorbar": {
              "outlinewidth": 0,
              "ticks": ""
             }
            },
            "type": "scatter3d"
           }
          ],
          "scattercarpet": [
           {
            "marker": {
             "colorbar": {
              "outlinewidth": 0,
              "ticks": ""
             }
            },
            "type": "scattercarpet"
           }
          ],
          "scattergeo": [
           {
            "marker": {
             "colorbar": {
              "outlinewidth": 0,
              "ticks": ""
             }
            },
            "type": "scattergeo"
           }
          ],
          "scattergl": [
           {
            "marker": {
             "colorbar": {
              "outlinewidth": 0,
              "ticks": ""
             }
            },
            "type": "scattergl"
           }
          ],
          "scattermapbox": [
           {
            "marker": {
             "colorbar": {
              "outlinewidth": 0,
              "ticks": ""
             }
            },
            "type": "scattermapbox"
           }
          ],
          "scatterpolar": [
           {
            "marker": {
             "colorbar": {
              "outlinewidth": 0,
              "ticks": ""
             }
            },
            "type": "scatterpolar"
           }
          ],
          "scatterpolargl": [
           {
            "marker": {
             "colorbar": {
              "outlinewidth": 0,
              "ticks": ""
             }
            },
            "type": "scatterpolargl"
           }
          ],
          "scatterternary": [
           {
            "marker": {
             "colorbar": {
              "outlinewidth": 0,
              "ticks": ""
             }
            },
            "type": "scatterternary"
           }
          ],
          "surface": [
           {
            "colorbar": {
             "outlinewidth": 0,
             "ticks": ""
            },
            "colorscale": [
             [
              0,
              "#0d0887"
             ],
             [
              0.1111111111111111,
              "#46039f"
             ],
             [
              0.2222222222222222,
              "#7201a8"
             ],
             [
              0.3333333333333333,
              "#9c179e"
             ],
             [
              0.4444444444444444,
              "#bd3786"
             ],
             [
              0.5555555555555556,
              "#d8576b"
             ],
             [
              0.6666666666666666,
              "#ed7953"
             ],
             [
              0.7777777777777778,
              "#fb9f3a"
             ],
             [
              0.8888888888888888,
              "#fdca26"
             ],
             [
              1,
              "#f0f921"
             ]
            ],
            "type": "surface"
           }
          ],
          "table": [
           {
            "cells": {
             "fill": {
              "color": "#EBF0F8"
             },
             "line": {
              "color": "white"
             }
            },
            "header": {
             "fill": {
              "color": "#C8D4E3"
             },
             "line": {
              "color": "white"
             }
            },
            "type": "table"
           }
          ]
         },
         "layout": {
          "annotationdefaults": {
           "arrowcolor": "#2a3f5f",
           "arrowhead": 0,
           "arrowwidth": 1
          },
          "autotypenumbers": "strict",
          "coloraxis": {
           "colorbar": {
            "outlinewidth": 0,
            "ticks": ""
           }
          },
          "colorscale": {
           "diverging": [
            [
             0,
             "#8e0152"
            ],
            [
             0.1,
             "#c51b7d"
            ],
            [
             0.2,
             "#de77ae"
            ],
            [
             0.3,
             "#f1b6da"
            ],
            [
             0.4,
             "#fde0ef"
            ],
            [
             0.5,
             "#f7f7f7"
            ],
            [
             0.6,
             "#e6f5d0"
            ],
            [
             0.7,
             "#b8e186"
            ],
            [
             0.8,
             "#7fbc41"
            ],
            [
             0.9,
             "#4d9221"
            ],
            [
             1,
             "#276419"
            ]
           ],
           "sequential": [
            [
             0,
             "#0d0887"
            ],
            [
             0.1111111111111111,
             "#46039f"
            ],
            [
             0.2222222222222222,
             "#7201a8"
            ],
            [
             0.3333333333333333,
             "#9c179e"
            ],
            [
             0.4444444444444444,
             "#bd3786"
            ],
            [
             0.5555555555555556,
             "#d8576b"
            ],
            [
             0.6666666666666666,
             "#ed7953"
            ],
            [
             0.7777777777777778,
             "#fb9f3a"
            ],
            [
             0.8888888888888888,
             "#fdca26"
            ],
            [
             1,
             "#f0f921"
            ]
           ],
           "sequentialminus": [
            [
             0,
             "#0d0887"
            ],
            [
             0.1111111111111111,
             "#46039f"
            ],
            [
             0.2222222222222222,
             "#7201a8"
            ],
            [
             0.3333333333333333,
             "#9c179e"
            ],
            [
             0.4444444444444444,
             "#bd3786"
            ],
            [
             0.5555555555555556,
             "#d8576b"
            ],
            [
             0.6666666666666666,
             "#ed7953"
            ],
            [
             0.7777777777777778,
             "#fb9f3a"
            ],
            [
             0.8888888888888888,
             "#fdca26"
            ],
            [
             1,
             "#f0f921"
            ]
           ]
          },
          "colorway": [
           "#636efa",
           "#EF553B",
           "#00cc96",
           "#ab63fa",
           "#FFA15A",
           "#19d3f3",
           "#FF6692",
           "#B6E880",
           "#FF97FF",
           "#FECB52"
          ],
          "font": {
           "color": "#2a3f5f"
          },
          "geo": {
           "bgcolor": "white",
           "lakecolor": "white",
           "landcolor": "#E5ECF6",
           "showlakes": true,
           "showland": true,
           "subunitcolor": "white"
          },
          "hoverlabel": {
           "align": "left"
          },
          "hovermode": "closest",
          "mapbox": {
           "style": "light"
          },
          "paper_bgcolor": "white",
          "plot_bgcolor": "#E5ECF6",
          "polar": {
           "angularaxis": {
            "gridcolor": "white",
            "linecolor": "white",
            "ticks": ""
           },
           "bgcolor": "#E5ECF6",
           "radialaxis": {
            "gridcolor": "white",
            "linecolor": "white",
            "ticks": ""
           }
          },
          "scene": {
           "xaxis": {
            "backgroundcolor": "#E5ECF6",
            "gridcolor": "white",
            "gridwidth": 2,
            "linecolor": "white",
            "showbackground": true,
            "ticks": "",
            "zerolinecolor": "white"
           },
           "yaxis": {
            "backgroundcolor": "#E5ECF6",
            "gridcolor": "white",
            "gridwidth": 2,
            "linecolor": "white",
            "showbackground": true,
            "ticks": "",
            "zerolinecolor": "white"
           },
           "zaxis": {
            "backgroundcolor": "#E5ECF6",
            "gridcolor": "white",
            "gridwidth": 2,
            "linecolor": "white",
            "showbackground": true,
            "ticks": "",
            "zerolinecolor": "white"
           }
          },
          "shapedefaults": {
           "line": {
            "color": "#2a3f5f"
           }
          },
          "ternary": {
           "aaxis": {
            "gridcolor": "white",
            "linecolor": "white",
            "ticks": ""
           },
           "baxis": {
            "gridcolor": "white",
            "linecolor": "white",
            "ticks": ""
           },
           "bgcolor": "#E5ECF6",
           "caxis": {
            "gridcolor": "white",
            "linecolor": "white",
            "ticks": ""
           }
          },
          "title": {
           "x": 0.05
          },
          "xaxis": {
           "automargin": true,
           "gridcolor": "white",
           "linecolor": "white",
           "ticks": "",
           "title": {
            "standoff": 15
           },
           "zerolinecolor": "white",
           "zerolinewidth": 2
          },
          "yaxis": {
           "automargin": true,
           "gridcolor": "white",
           "linecolor": "white",
           "ticks": "",
           "title": {
            "standoff": 15
           },
           "zerolinecolor": "white",
           "zerolinewidth": 2
          }
         }
        },
        "title": {
         "text": "Correlation Matrix Heatmap"
        },
        "width": 800,
        "xaxis": {
         "anchor": "y",
         "constrain": "domain",
         "domain": [
          0,
          1
         ],
         "scaleanchor": "y",
         "showgrid": false,
         "title": {
          "text": "Features"
         }
        },
        "yaxis": {
         "anchor": "x",
         "autorange": "reversed",
         "constrain": "domain",
         "domain": [
          0,
          1
         ],
         "showgrid": false,
         "title": {
          "text": "Features"
         }
        }
       }
      }
     },
     "metadata": {},
     "output_type": "display_data"
    }
   ],
   "source": [
    "# Create a heatmap of the correlation matrix with annotations and a custom color scheme\n",
    "fig = px.imshow(corr_matrix, x=corr_matrix.columns, y=corr_matrix.columns, color_continuous_scale='RdBu', zmin=-1, zmax=1)\n",
    "fig.update_layout(title='Correlation Matrix Heatmap', width=800, height=800, xaxis_showgrid=False, yaxis_showgrid=False, xaxis_title='Features', yaxis_title='Features')\n",
    "fig.update_traces(text=corr_matrix.values.round(2), showscale=False)\n",
    "fig.show()"
   ]
  },
  {
   "cell_type": "markdown",
   "metadata": {},
   "source": [
    "##### linear model without an hyper parameter\n"
   ]
  },
  {
   "cell_type": "code",
   "execution_count": 56,
   "metadata": {},
   "outputs": [
    {
     "name": "stdout",
     "output_type": "stream",
     "text": [
      "0.49\n"
     ]
    }
   ],
   "source": [
    "\n",
    "# select the columns and convert them to arrays\n",
    "x = selected_house_df.drop([\"price_per_meter\",\"price\"], axis=\"columns\").values\n",
    "y = selected_house_df['price_per_meter'].values\n",
    "\n",
    "# Split the dataset into training and testing sets\n",
    "x_train, x_test, y_train, y_test = train_test_split(x, y, test_size=0.3,  random_state=1)\n",
    "\n",
    "# Scale the features\n",
    "sc = StandardScaler()\n",
    "x_train = sc.fit_transform(x_train)\n",
    "x_test = sc.transform(x_test)\n",
    "\n",
    "\n",
    "# Creating a Linear Regression model and fitting it to the training data\n",
    "lr = LinearRegression()\n",
    "lr.fit(x_train, y_train)\n",
    "\n",
    "\n",
    "print(f\"{lr.score(x_test,y_test):.2f}\")\n"
   ]
  },
  {
   "cell_type": "code",
   "execution_count": 62,
   "metadata": {},
   "outputs": [
    {
     "data": {
      "application/vnd.plotly.v1+json": {
       "config": {
        "plotlyServerURL": "https://plot.ly"
       },
       "data": [
        {
         "hovertemplate": "Actual Price per meter=%{x}<br>Predicted Price per meter=%{y}<extra></extra>",
         "legendgroup": "",
         "marker": {
          "color": "#1b667e",
          "symbol": "circle"
         },
         "mode": "markers",
         "name": "",
         "orientation": "v",
         "showlegend": false,
         "type": "scatter",
         "x": [
          82631578.94736843,
          87500000,
          84000000,
          107246376.8115942,
          90000000,
          89430894.3089431,
          82000000,
          60256410.256410256,
          68589743.58974358,
          91111111.1111111,
          77333333.33333333,
          80808080.8080808,
          100000000,
          100000000,
          68085106.38297872,
          115000000,
          94387755.10204081,
          130000000,
          70588235.29411764,
          100000000,
          92307692.3076923,
          120000000,
          58000000,
          102739726.02739726,
          73571428.57142857,
          110606060.60606061,
          80000000,
          73000000,
          120000000,
          83116883.11688311,
          155000000,
          63725490.196078435,
          109090909.0909091,
          101724137.93103448,
          100000000,
          150000000,
          100000000,
          75000000,
          93000000,
          106000000,
          83116883.11688311,
          90000000,
          115972222.22222222,
          91962025.31645569,
          114035087.71929824,
          93571428.57142857,
          46052631.578947365,
          125000000,
          121111111.1111111,
          140000000,
          72727272.72727273,
          67187500,
          100000000,
          100000000,
          90000000,
          50000000,
          68333333.33333333,
          36666666.666666664,
          90000000,
          120000000,
          144230769.23076922,
          107865168.53932585,
          111764705.88235295,
          230000000,
          130000000,
          120000000,
          134971751.4124294,
          58333333.333333336,
          180000000,
          95604395.6043956,
          73825503.3557047,
          80722891.56626506,
          120000000,
          130573248.40764332,
          90425531.91489361,
          85714285.71428572,
          24545454.545454547,
          65000000,
          90000000,
          61716417.91044776,
          80645161.29032259,
          90000000,
          93333333.33333333,
          130000000,
          111445783.13253012,
          30000000,
          68421052.63157895,
          72177419.35483871,
          95000000,
          100000000,
          81690140.84507042,
          93457943.92523365,
          88541666.66666667,
          110000000,
          75000000,
          81481481.48148148,
          90476190.47619048,
          80882352.94117647,
          90243902.43902439,
          105000000,
          88888888.8888889,
          104411764.70588236,
          100000000,
          60185185.18518519,
          109708737.86407767,
          61538461.538461536,
          135000000,
          63855421.686746985,
          104000000,
          62195121.951219514,
          126436781.6091954,
          98969072.16494845,
          162962962.96296296,
          83000000,
          91566265.06024097,
          73404255.31914894,
          135000000,
          133928571.42857143,
          70588235.29411764,
          88888888.8888889,
          62745098.039215684,
          83333333.33333333,
          79166666.66666667,
          30769230.769230768,
          93867924.52830188,
          63253968.253968254,
          82000000,
          107476635.51401868,
          74452554.74452555,
          108000000,
          105263157.89473684,
          68032786.8852459,
          35384615.384615384,
          68965517.2413793,
          69078947.36842105,
          145000000,
          150000000,
          109677419.35483871,
          105882352.94117647,
          75000000,
          59550561.79775281,
          61538461.538461536,
          120000000,
          120754716.98113208,
          90361445.78313252,
          87500000,
          70000000,
          88000000,
          146000000,
          89655172.4137931,
          105000000,
          130000000,
          71153846.15384616,
          110000000,
          81081081.08108108,
          100000000,
          108000000,
          50847457.62711865,
          120535714.28571428,
          48275862.06896552,
          82142857.14285715,
          88983050.84745763,
          85384615.38461539,
          72222222.22222222,
          105882352.94117647,
          102000000,
          99833333.33333333,
          64705882.35294118,
          108196721.31147541,
          33333333.333333332,
          85000000,
          47413793.10344828,
          128776978.41726619,
          141666666.66666666,
          97826086.95652173,
          110000000,
          108695652.17391305,
          97727272.72727273,
          106382978.72340426,
          86538461.53846154,
          120000000,
          110000000,
          97000000,
          66176470.5882353,
          105932203.38983051,
          69444444.44444445,
          110294117.64705883,
          82000000,
          69411764.70588236,
          80000000,
          80000000,
          100000000,
          105000000,
          30769230.769230768,
          43846153.84615385,
          73207547.16981132,
          127358490.56603773,
          66037735.8490566,
          110000000,
          162272727.27272728,
          52000000,
          76271186.44067797,
          90163934.4262295,
          79245283.01886792,
          28333333.333333332,
          75238095.23809524,
          79032258.06451613,
          46666666.666666664,
          185483870.96774194,
          97938144.32989691,
          73972602.73972602,
          96842105.26315789,
          85567010.30927835,
          74166666.66666667,
          145299145.2991453,
          60000000,
          73333333.33333333,
          115000000,
          120000000,
          68181818.18181819,
          140000000,
          68589743.58974358,
          100000000,
          130000000,
          114035087.71929824,
          35555555.55555555,
          123214285.71428572,
          90000000,
          153773584.9056604,
          89333333.33333333,
          86111111.1111111,
          82089552.23880596,
          93750000,
          144000000,
          75000000,
          140000000,
          35000000,
          83333333.33333333,
          83333333.33333333,
          82352941.1764706,
          125247524.75247525,
          106481481.48148148,
          72368421.05263157,
          83000000,
          79310344.8275862,
          111111111.1111111,
          50000000,
          90000000,
          69662921.34831461,
          84615384.61538461,
          78260869.56521739,
          83333333.33333333,
          90000000,
          120000000,
          70909090.9090909,
          106194690.26548673,
          175438596.49122807,
          85000000,
          116814159.2920354,
          62000000,
          95180722.89156626,
          81632653.06122449,
          105000000,
          32608695.652173914,
          106250000,
          108695652.17391305,
          72727272.72727273,
          68000000,
          120754716.98113208,
          72500000,
          65263157.89473684,
          84905660.3773585,
          109890109.8901099,
          60416666.666666664,
          113207547.16981132,
          57500000,
          66363636.36363637,
          170000000,
          113636363.63636364,
          80000000,
          90000000,
          63000000,
          134000000,
          59633027.52293578,
          93750000,
          40000000,
          77777777.77777778,
          85000000,
          120218579.23497267
         ],
         "xaxis": "x",
         "y": [
          92667329.47596806,
          70894302.52266246,
          98217713.90333714,
          94313891.22346838,
          93726258.28001454,
          101065847.23776117,
          91054362.41144642,
          70131632.04019275,
          72832982.28234471,
          99656159.78533822,
          99084586.48264146,
          95627033.68802099,
          120873030.36863081,
          100345037.07014276,
          65696327.58109527,
          115485803.01145929,
          104893846.83043262,
          94769577.74567483,
          76958176.60029563,
          108898947.9242107,
          106649503.02486846,
          98926535.37037995,
          53248049.548598304,
          99356305.8811951,
          88493780.85218047,
          86346014.34233174,
          51049466.881833136,
          85468903.59216836,
          106548744.99349953,
          77422324.84637634,
          135359985.61349407,
          66349702.45621114,
          90472571.47447352,
          83732528.67774029,
          100510628.99296758,
          111355545.74118799,
          100741642.19458063,
          67807627.01923656,
          105525665.1480525,
          106702551.62538771,
          78692018.03864303,
          106069134.73606007,
          107713983.42405891,
          105248916.92687601,
          74123017.74294558,
          88614962.24506032,
          70845087.96482304,
          95525679.04885924,
          103301496.05922376,
          105564994.48129389,
          47707705.64992864,
          76344591.61946014,
          91611570.39475948,
          91327039.74356952,
          93127477.46196328,
          43858970.188015595,
          63284929.91712236,
          53180555.82783542,
          114898431.58546495,
          98955044.23933554,
          79893665.3078855,
          98523938.10328057,
          109416682.1667155,
          166328327.60325676,
          108472344.94734724,
          119973530.05496494,
          124148282.01498935,
          81724230.36222695,
          132531047.32272726,
          91760593.4185301,
          100407950.75886494,
          83693444.61293043,
          101531271.9790664,
          107624499.36449268,
          89228069.48863998,
          100354909.24988587,
          70061291.31173815,
          87573998.9009671,
          98064905.97285277,
          71405866.5141575,
          95159937.50279528,
          112044922.39166415,
          66907666.93241126,
          102509193.92270885,
          96736558.99079221,
          53814765.99709215,
          73192002.4949703,
          76236857.17663185,
          66976402.01781051,
          110116332.20149598,
          83037646.56702207,
          94952182.29395755,
          96773922.19134705,
          114328884.82229821,
          57786254.40096381,
          81414750.9322944,
          97057360.94632432,
          85166442.17185205,
          88821033.71502289,
          92263281.00989166,
          79183001.45525004,
          98471206.06900688,
          81270835.62591584,
          100734391.93311206,
          146435155.25523356,
          98774654.82691272,
          112333486.40728271,
          70171233.3662286,
          102668072.04672962,
          96039880.98102412,
          104230683.83091867,
          92772759.94003963,
          110319069.26318446,
          90361989.85638982,
          84643887.43973206,
          95280701.5752167,
          101214510.85301813,
          95325631.40280858,
          98369486.31931299,
          80104843.8687754,
          81326688.49949484,
          53367427.2840808,
          78277071.9603073,
          66635146.238400936,
          100694443.32470949,
          77013636.67478111,
          99800288.89035785,
          102785442.8629226,
          102696038.2961086,
          91417584.48675248,
          102523524.81758453,
          64740416.95605687,
          46183380.40073249,
          85347067.02790143,
          89057682.85093468,
          106055230.45503663,
          140769912.06679136,
          107346782.61472987,
          88602146.88434556,
          72891484.2757989,
          63254140.04895374,
          41793640.590749025,
          100314045.29158011,
          95437741.83940525,
          95444711.51333605,
          74641579.04631488,
          51775188.3452263,
          106930603.3031212,
          106738656.79632305,
          102065899.97670878,
          105955515.50799376,
          111660629.4876961,
          46615318.40070302,
          110616405.48082834,
          90385711.85043201,
          109795804.57130857,
          94850133.73855266,
          62310400.22428753,
          102492804.85490498,
          70185891.79270215,
          67530506.83251473,
          98897753.27615066,
          83765477.0815808,
          88790077.38985592,
          95608144.3351577,
          90964975.20356123,
          78871337.06025594,
          70079240.85959034,
          100840251.8323811,
          52766521.65883432,
          77982919.82814513,
          77036962.55162191,
          118537454.55969346,
          78073870.45113674,
          109070935.94155332,
          118010102.35836595,
          88887700.84369674,
          66943838.97458336,
          109037298.97540197,
          69595467.23885623,
          111239416.30709009,
          124345638.11792132,
          104215602.68764779,
          72319998.65050937,
          92128627.5549573,
          72143901.94995275,
          97200314.81803598,
          77799403.97757418,
          82444865.00544716,
          105843061.22925296,
          90404685.60077357,
          75657805.68463022,
          99615867.79814395,
          44329013.076087624,
          56970335.278739,
          76906240.04660513,
          98503661.97515799,
          56907882.11561405,
          103686716.08124387,
          111660210.35974482,
          48667365.84528592,
          59116122.22815882,
          75125679.34362198,
          85870660.18494385,
          58897213.406840384,
          106509621.45191327,
          99657246.66489881,
          74752019.53289276,
          100535341.18864214,
          97073173.33034113,
          93121237.39250495,
          93023371.02849378,
          93825201.200351,
          90002061.33042985,
          111474296.28240885,
          58732684.83728261,
          103437571.35499327,
          99738687.99372873,
          116770147.441746,
          72759010.18907297,
          78397685.23242381,
          68379170.4858553,
          133686948.17578217,
          119239351.72469597,
          92597470.23831132,
          58952174.71995453,
          102829848.85599859,
          109809402.0611089,
          103981971.54203856,
          94149848.27591638,
          93470387.60143945,
          53953521.18176627,
          100574970.53057247,
          121497431.45926227,
          89181722.97076286,
          105495821.43980446,
          46620919.17927271,
          69594173.24407788,
          103219060.14923258,
          86579512.11670984,
          104297337.05701885,
          97258328.67072673,
          75698099.82490726,
          75234767.87540759,
          97899936.62129588,
          93754616.93032867,
          63353284.31090112,
          92271009.47200355,
          98628600.13717471,
          72500989.37252411,
          109090021.06799479,
          95785852.1029134,
          56812675.66761587,
          127619709.56634746,
          68233284.58884887,
          110459792.6731462,
          108781269.75757822,
          102708662.29487167,
          110152226.56582972,
          57067551.29043954,
          105640836.98097552,
          101014613.41907132,
          129226344.59915288,
          47059936.04631053,
          102122016.40957917,
          102775942.4659103,
          103834386.52506834,
          80681294.9001845,
          102228538.21565734,
          106029494.66700858,
          90472117.66607818,
          79328107.38753402,
          95337159.36038148,
          105585490.10199557,
          121988361.06280515,
          59642706.242228344,
          76011337.76262951,
          115243162.90630047,
          99635187.9405348,
          82445629.1181613,
          89500222.32559101,
          68506384.43596216,
          106813423.55689529,
          67494277.28749715,
          123396482.47500443,
          43540029.200501196,
          81471627.42152332,
          105734470.22150782,
          142150550.00571606
         ],
         "yaxis": "y"
        },
        {
         "hovertemplate": "x=%{x}<br>y=%{y}<extra></extra>",
         "legendgroup": "",
         "line": {
          "color": "#636efa",
          "dash": "solid"
         },
         "marker": {
          "symbol": "circle"
         },
         "mode": "lines",
         "name": "",
         "orientation": "v",
         "showlegend": false,
         "type": "scatter",
         "x": [
          24545454.545454547,
          230000000
         ],
         "xaxis": "x",
         "y": [
          24545454.545454547,
          230000000
         ],
         "yaxis": "y"
        }
       ],
       "layout": {
        "height": 500,
        "legend": {
         "tracegroupgap": 0
        },
        "margin": {
         "t": 60
        },
        "template": {
         "data": {
          "bar": [
           {
            "error_x": {
             "color": "#2a3f5f"
            },
            "error_y": {
             "color": "#2a3f5f"
            },
            "marker": {
             "line": {
              "color": "#E5ECF6",
              "width": 0.5
             },
             "pattern": {
              "fillmode": "overlay",
              "size": 10,
              "solidity": 0.2
             }
            },
            "type": "bar"
           }
          ],
          "barpolar": [
           {
            "marker": {
             "line": {
              "color": "#E5ECF6",
              "width": 0.5
             },
             "pattern": {
              "fillmode": "overlay",
              "size": 10,
              "solidity": 0.2
             }
            },
            "type": "barpolar"
           }
          ],
          "carpet": [
           {
            "aaxis": {
             "endlinecolor": "#2a3f5f",
             "gridcolor": "white",
             "linecolor": "white",
             "minorgridcolor": "white",
             "startlinecolor": "#2a3f5f"
            },
            "baxis": {
             "endlinecolor": "#2a3f5f",
             "gridcolor": "white",
             "linecolor": "white",
             "minorgridcolor": "white",
             "startlinecolor": "#2a3f5f"
            },
            "type": "carpet"
           }
          ],
          "choropleth": [
           {
            "colorbar": {
             "outlinewidth": 0,
             "ticks": ""
            },
            "type": "choropleth"
           }
          ],
          "contour": [
           {
            "colorbar": {
             "outlinewidth": 0,
             "ticks": ""
            },
            "colorscale": [
             [
              0,
              "#0d0887"
             ],
             [
              0.1111111111111111,
              "#46039f"
             ],
             [
              0.2222222222222222,
              "#7201a8"
             ],
             [
              0.3333333333333333,
              "#9c179e"
             ],
             [
              0.4444444444444444,
              "#bd3786"
             ],
             [
              0.5555555555555556,
              "#d8576b"
             ],
             [
              0.6666666666666666,
              "#ed7953"
             ],
             [
              0.7777777777777778,
              "#fb9f3a"
             ],
             [
              0.8888888888888888,
              "#fdca26"
             ],
             [
              1,
              "#f0f921"
             ]
            ],
            "type": "contour"
           }
          ],
          "contourcarpet": [
           {
            "colorbar": {
             "outlinewidth": 0,
             "ticks": ""
            },
            "type": "contourcarpet"
           }
          ],
          "heatmap": [
           {
            "colorbar": {
             "outlinewidth": 0,
             "ticks": ""
            },
            "colorscale": [
             [
              0,
              "#0d0887"
             ],
             [
              0.1111111111111111,
              "#46039f"
             ],
             [
              0.2222222222222222,
              "#7201a8"
             ],
             [
              0.3333333333333333,
              "#9c179e"
             ],
             [
              0.4444444444444444,
              "#bd3786"
             ],
             [
              0.5555555555555556,
              "#d8576b"
             ],
             [
              0.6666666666666666,
              "#ed7953"
             ],
             [
              0.7777777777777778,
              "#fb9f3a"
             ],
             [
              0.8888888888888888,
              "#fdca26"
             ],
             [
              1,
              "#f0f921"
             ]
            ],
            "type": "heatmap"
           }
          ],
          "heatmapgl": [
           {
            "colorbar": {
             "outlinewidth": 0,
             "ticks": ""
            },
            "colorscale": [
             [
              0,
              "#0d0887"
             ],
             [
              0.1111111111111111,
              "#46039f"
             ],
             [
              0.2222222222222222,
              "#7201a8"
             ],
             [
              0.3333333333333333,
              "#9c179e"
             ],
             [
              0.4444444444444444,
              "#bd3786"
             ],
             [
              0.5555555555555556,
              "#d8576b"
             ],
             [
              0.6666666666666666,
              "#ed7953"
             ],
             [
              0.7777777777777778,
              "#fb9f3a"
             ],
             [
              0.8888888888888888,
              "#fdca26"
             ],
             [
              1,
              "#f0f921"
             ]
            ],
            "type": "heatmapgl"
           }
          ],
          "histogram": [
           {
            "marker": {
             "pattern": {
              "fillmode": "overlay",
              "size": 10,
              "solidity": 0.2
             }
            },
            "type": "histogram"
           }
          ],
          "histogram2d": [
           {
            "colorbar": {
             "outlinewidth": 0,
             "ticks": ""
            },
            "colorscale": [
             [
              0,
              "#0d0887"
             ],
             [
              0.1111111111111111,
              "#46039f"
             ],
             [
              0.2222222222222222,
              "#7201a8"
             ],
             [
              0.3333333333333333,
              "#9c179e"
             ],
             [
              0.4444444444444444,
              "#bd3786"
             ],
             [
              0.5555555555555556,
              "#d8576b"
             ],
             [
              0.6666666666666666,
              "#ed7953"
             ],
             [
              0.7777777777777778,
              "#fb9f3a"
             ],
             [
              0.8888888888888888,
              "#fdca26"
             ],
             [
              1,
              "#f0f921"
             ]
            ],
            "type": "histogram2d"
           }
          ],
          "histogram2dcontour": [
           {
            "colorbar": {
             "outlinewidth": 0,
             "ticks": ""
            },
            "colorscale": [
             [
              0,
              "#0d0887"
             ],
             [
              0.1111111111111111,
              "#46039f"
             ],
             [
              0.2222222222222222,
              "#7201a8"
             ],
             [
              0.3333333333333333,
              "#9c179e"
             ],
             [
              0.4444444444444444,
              "#bd3786"
             ],
             [
              0.5555555555555556,
              "#d8576b"
             ],
             [
              0.6666666666666666,
              "#ed7953"
             ],
             [
              0.7777777777777778,
              "#fb9f3a"
             ],
             [
              0.8888888888888888,
              "#fdca26"
             ],
             [
              1,
              "#f0f921"
             ]
            ],
            "type": "histogram2dcontour"
           }
          ],
          "mesh3d": [
           {
            "colorbar": {
             "outlinewidth": 0,
             "ticks": ""
            },
            "type": "mesh3d"
           }
          ],
          "parcoords": [
           {
            "line": {
             "colorbar": {
              "outlinewidth": 0,
              "ticks": ""
             }
            },
            "type": "parcoords"
           }
          ],
          "pie": [
           {
            "automargin": true,
            "type": "pie"
           }
          ],
          "scatter": [
           {
            "fillpattern": {
             "fillmode": "overlay",
             "size": 10,
             "solidity": 0.2
            },
            "type": "scatter"
           }
          ],
          "scatter3d": [
           {
            "line": {
             "colorbar": {
              "outlinewidth": 0,
              "ticks": ""
             }
            },
            "marker": {
             "colorbar": {
              "outlinewidth": 0,
              "ticks": ""
             }
            },
            "type": "scatter3d"
           }
          ],
          "scattercarpet": [
           {
            "marker": {
             "colorbar": {
              "outlinewidth": 0,
              "ticks": ""
             }
            },
            "type": "scattercarpet"
           }
          ],
          "scattergeo": [
           {
            "marker": {
             "colorbar": {
              "outlinewidth": 0,
              "ticks": ""
             }
            },
            "type": "scattergeo"
           }
          ],
          "scattergl": [
           {
            "marker": {
             "colorbar": {
              "outlinewidth": 0,
              "ticks": ""
             }
            },
            "type": "scattergl"
           }
          ],
          "scattermapbox": [
           {
            "marker": {
             "colorbar": {
              "outlinewidth": 0,
              "ticks": ""
             }
            },
            "type": "scattermapbox"
           }
          ],
          "scatterpolar": [
           {
            "marker": {
             "colorbar": {
              "outlinewidth": 0,
              "ticks": ""
             }
            },
            "type": "scatterpolar"
           }
          ],
          "scatterpolargl": [
           {
            "marker": {
             "colorbar": {
              "outlinewidth": 0,
              "ticks": ""
             }
            },
            "type": "scatterpolargl"
           }
          ],
          "scatterternary": [
           {
            "marker": {
             "colorbar": {
              "outlinewidth": 0,
              "ticks": ""
             }
            },
            "type": "scatterternary"
           }
          ],
          "surface": [
           {
            "colorbar": {
             "outlinewidth": 0,
             "ticks": ""
            },
            "colorscale": [
             [
              0,
              "#0d0887"
             ],
             [
              0.1111111111111111,
              "#46039f"
             ],
             [
              0.2222222222222222,
              "#7201a8"
             ],
             [
              0.3333333333333333,
              "#9c179e"
             ],
             [
              0.4444444444444444,
              "#bd3786"
             ],
             [
              0.5555555555555556,
              "#d8576b"
             ],
             [
              0.6666666666666666,
              "#ed7953"
             ],
             [
              0.7777777777777778,
              "#fb9f3a"
             ],
             [
              0.8888888888888888,
              "#fdca26"
             ],
             [
              1,
              "#f0f921"
             ]
            ],
            "type": "surface"
           }
          ],
          "table": [
           {
            "cells": {
             "fill": {
              "color": "#EBF0F8"
             },
             "line": {
              "color": "white"
             }
            },
            "header": {
             "fill": {
              "color": "#C8D4E3"
             },
             "line": {
              "color": "white"
             }
            },
            "type": "table"
           }
          ]
         },
         "layout": {
          "annotationdefaults": {
           "arrowcolor": "#2a3f5f",
           "arrowhead": 0,
           "arrowwidth": 1
          },
          "autotypenumbers": "strict",
          "coloraxis": {
           "colorbar": {
            "outlinewidth": 0,
            "ticks": ""
           }
          },
          "colorscale": {
           "diverging": [
            [
             0,
             "#8e0152"
            ],
            [
             0.1,
             "#c51b7d"
            ],
            [
             0.2,
             "#de77ae"
            ],
            [
             0.3,
             "#f1b6da"
            ],
            [
             0.4,
             "#fde0ef"
            ],
            [
             0.5,
             "#f7f7f7"
            ],
            [
             0.6,
             "#e6f5d0"
            ],
            [
             0.7,
             "#b8e186"
            ],
            [
             0.8,
             "#7fbc41"
            ],
            [
             0.9,
             "#4d9221"
            ],
            [
             1,
             "#276419"
            ]
           ],
           "sequential": [
            [
             0,
             "#0d0887"
            ],
            [
             0.1111111111111111,
             "#46039f"
            ],
            [
             0.2222222222222222,
             "#7201a8"
            ],
            [
             0.3333333333333333,
             "#9c179e"
            ],
            [
             0.4444444444444444,
             "#bd3786"
            ],
            [
             0.5555555555555556,
             "#d8576b"
            ],
            [
             0.6666666666666666,
             "#ed7953"
            ],
            [
             0.7777777777777778,
             "#fb9f3a"
            ],
            [
             0.8888888888888888,
             "#fdca26"
            ],
            [
             1,
             "#f0f921"
            ]
           ],
           "sequentialminus": [
            [
             0,
             "#0d0887"
            ],
            [
             0.1111111111111111,
             "#46039f"
            ],
            [
             0.2222222222222222,
             "#7201a8"
            ],
            [
             0.3333333333333333,
             "#9c179e"
            ],
            [
             0.4444444444444444,
             "#bd3786"
            ],
            [
             0.5555555555555556,
             "#d8576b"
            ],
            [
             0.6666666666666666,
             "#ed7953"
            ],
            [
             0.7777777777777778,
             "#fb9f3a"
            ],
            [
             0.8888888888888888,
             "#fdca26"
            ],
            [
             1,
             "#f0f921"
            ]
           ]
          },
          "colorway": [
           "#636efa",
           "#EF553B",
           "#00cc96",
           "#ab63fa",
           "#FFA15A",
           "#19d3f3",
           "#FF6692",
           "#B6E880",
           "#FF97FF",
           "#FECB52"
          ],
          "font": {
           "color": "#2a3f5f"
          },
          "geo": {
           "bgcolor": "white",
           "lakecolor": "white",
           "landcolor": "#E5ECF6",
           "showlakes": true,
           "showland": true,
           "subunitcolor": "white"
          },
          "hoverlabel": {
           "align": "left"
          },
          "hovermode": "closest",
          "mapbox": {
           "style": "light"
          },
          "paper_bgcolor": "white",
          "plot_bgcolor": "#E5ECF6",
          "polar": {
           "angularaxis": {
            "gridcolor": "white",
            "linecolor": "white",
            "ticks": ""
           },
           "bgcolor": "#E5ECF6",
           "radialaxis": {
            "gridcolor": "white",
            "linecolor": "white",
            "ticks": ""
           }
          },
          "scene": {
           "xaxis": {
            "backgroundcolor": "#E5ECF6",
            "gridcolor": "white",
            "gridwidth": 2,
            "linecolor": "white",
            "showbackground": true,
            "ticks": "",
            "zerolinecolor": "white"
           },
           "yaxis": {
            "backgroundcolor": "#E5ECF6",
            "gridcolor": "white",
            "gridwidth": 2,
            "linecolor": "white",
            "showbackground": true,
            "ticks": "",
            "zerolinecolor": "white"
           },
           "zaxis": {
            "backgroundcolor": "#E5ECF6",
            "gridcolor": "white",
            "gridwidth": 2,
            "linecolor": "white",
            "showbackground": true,
            "ticks": "",
            "zerolinecolor": "white"
           }
          },
          "shapedefaults": {
           "line": {
            "color": "#2a3f5f"
           }
          },
          "ternary": {
           "aaxis": {
            "gridcolor": "white",
            "linecolor": "white",
            "ticks": ""
           },
           "baxis": {
            "gridcolor": "white",
            "linecolor": "white",
            "ticks": ""
           },
           "bgcolor": "#E5ECF6",
           "caxis": {
            "gridcolor": "white",
            "linecolor": "white",
            "ticks": ""
           }
          },
          "title": {
           "x": 0.05
          },
          "xaxis": {
           "automargin": true,
           "gridcolor": "white",
           "linecolor": "white",
           "ticks": "",
           "title": {
            "standoff": 15
           },
           "zerolinecolor": "white",
           "zerolinewidth": 2
          },
          "yaxis": {
           "automargin": true,
           "gridcolor": "white",
           "linecolor": "white",
           "ticks": "",
           "title": {
            "standoff": 15
           },
           "zerolinecolor": "white",
           "zerolinewidth": 2
          }
         }
        },
        "width": 700,
        "xaxis": {
         "anchor": "y",
         "domain": [
          0,
          1
         ],
         "title": {
          "text": "Actual Price per meter"
         }
        },
        "yaxis": {
         "anchor": "x",
         "domain": [
          0,
          1
         ],
         "title": {
          "text": "Predicted Price per meter"
         }
        }
       }
      }
     },
     "metadata": {},
     "output_type": "display_data"
    }
   ],
   "source": [
    "# Predicting the house prices for the test data\n",
    "y_pred = lr.predict(x_test)\n",
    "\n",
    "# Plotting the output of the model using Plotly\n",
    "fig = px.scatter(x=y_test, y=y_pred, labels={'x': 'Actual Price per meter', 'y': 'Predicted Price per meter'}, color_discrete_sequence=['#1b667e'])\n",
    "fig.add_trace(px.line(x=[y_test.min(), y_test.max()], y=[y_test.min(), y_test.max()]).data[0])\n",
    "fig.update_layout(width=700, height=500)\n",
    "fig.show()"
   ]
  },
  {
   "cell_type": "code",
   "execution_count": 63,
   "metadata": {},
   "outputs": [
    {
     "data": {
      "image/png": "[encoded data removed]",
      "text/plain": [
       "<Figure size 640x480 with 1 Axes>"
      ]
     },
     "metadata": {},
     "output_type": "display_data"
    }
   ],
   "source": [
    "# Plotting the output of the model\n",
    "plt.scatter(y_test, y_pred)\n",
    "plt.xlabel('Actual Price per meter')\n",
    "plt.ylabel('Predicted Price per meter')\n",
    "plt.title('Linear Regression Model')\n",
    "\n",
    "# Plotting the linear line\n",
    "plt.plot([y_test.min(), y_test.max()], [y_test.min(), y_test.max()], 'k--', lw=2)\n",
    "plt.show()"
   ]
  },
  {
   "cell_type": "code",
   "execution_count": 38,
   "metadata": {},
   "outputs": [
    {
     "name": "stdout",
     "output_type": "stream",
     "text": [
      "Mean Absolute Error: 16162464.364545181\n"
     ]
    }
   ],
   "source": [
    "\n",
    "\n",
    "\n",
    "# Creating a Linear Regression model and fitting it to the training data\n",
    "model = LinearRegression()\n",
    "model.fit(x_train, y_train)\n",
    "\n",
    "# Predicting the house prices for the test data\n",
    "y_pred = model.predict(x_test)\n",
    "\n",
    "# Evaluating the performance of the model using Mean Absolute Error (MAE)\n",
    "from sklearn.metrics import mean_absolute_error\n",
    "mae = mean_absolute_error(y_test, y_pred)\n",
    "print('Mean Absolute Error:', mae)"
   ]
  }
 ],
 "metadata": {
  "kernelspec": {
   "display_name": "Python 3",
   "language": "python",
   "name": "python3"
  },
  "language_info": {
   "codemirror_mode": {
    "name": "ipython",
    "version": 3
   },
   "file_extension": ".py",
   "mimetype": "text/x-python",
   "name": "python",
   "nbconvert_exporter": "python",
   "pygments_lexer": "ipython3",
   "version": "3.10.3"
  },
  "orig_nbformat": 4
 },
 "nbformat": 4,
 "nbformat_minor": 2
}
